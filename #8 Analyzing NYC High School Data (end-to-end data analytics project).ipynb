{
 "cells": [
  {
   "cell_type": "markdown",
   "metadata": {},
   "source": [
    "# End-to-end project: Analyzing NYC High School Data\n",
    "\n",
    "This project is one of the 2 huge projects that walkthrough from the beginning of data collection till the very end of data analysis. \n",
    "\n",
    "One of the most controversial issues in the U.S educational system is the efficacy of standardized tests, and whether they are unfair to certain groups. The SAT, which is short for Scholastic Aptitude Test, is an exam that the U.S high school students take before applying to colleges and universities. The institutes take the test results into account when deciding who to admit, so it's fairly important to perform well on it. We then investigate the correlations between SAT scores and demographics to check if it is the case. We could correlate the SAT scores with factors such as race, gender, income and more. \n",
    "\n",
    "Since it has been recently modified so the the combined score of SAT test is 1600, the data set for our project s based on 2,400 total points. You can find the dataset [here](https://data.cityofnewyork.us/Education/2012-SAT-Results/f9bf-2cp4). Since it is not enough having one dataset for the whole analysis, we'll need to suplement our data with other sources to do our full analysis. The same website has several related data sets covering demographic information and test scores. \n",
    "- [SAT scores by school](https://data.cityofnewyork.us/Education/2012-SAT-Results/f9bf-2cp4)\n",
    "- [School attendance](https://data.cityofnewyork.us/Education/2010-2011-School-Attendance-and-Enrollment-Statist/7z8d-msnt)\n",
    "- [Class size](https://data.cityofnewyork.us/Education/2010-2011-Class-Size-School-level-detail/urz7-pzb3)\n",
    "- [AP test results](https://data.cityofnewyork.us/Education/2010-AP-College-Board-School-Level-Results/itfs-ms3e)\n",
    "- [Graduation outcomes](https://data.cityofnewyork.us/Education/2005-2010-Graduation-Outcomes-School-Level/vh2h-md7a)\n",
    "- [Demographics](https://data.cityofnewyork.us/Education/2006-2012-School-Demographics-and-Accountability-S/ihfw-zy9j)\n",
    "- [School surveys](https://data.cityofnewyork.us/Education/2011-NYC-School-Survey/mnz3-dyi8)\n",
    "\n",
    "## Background research\n",
    "\n",
    "1. Only high school stduents take the SAT, so we'll want to focus on high schools only. Our datasets include several different types of schools so that we need to clean them and focus on high schools only. \n",
    "2. New York city is made up of 5 boroughs, which are esentially distinct regions.\n",
    "3. New York City schools fall within several different school districts, each of which can contain dozens of schools. Aggregating data by district will allow us to use the district mapping data to plot district-by-district differences.\n",
    "4. Each school in New York City has a unique code called a DBN, or district borough number. \n",
    "\n",
    "## Explore data sets"
   ]
  },
  {
   "cell_type": "code",
   "execution_count": 1,
   "metadata": {},
   "outputs": [
    {
     "data": {
      "text/plain": [
       "{'ap_2010':         DBN                                         SchoolName  \\\n",
       " 0    01M448                       UNIVERSITY NEIGHBORHOOD H.S.   \n",
       " 1    01M450                             EAST SIDE COMMUNITY HS   \n",
       " 2    01M515                                LOWER EASTSIDE PREP   \n",
       " 3    01M539                     NEW EXPLORATIONS SCI,TECH,MATH   \n",
       " 4    02M296              High School of Hospitality Management   \n",
       " ..      ...                                                ...   \n",
       " 253  31R605                         STATEN ISLAND TECHNICAL HS   \n",
       " 254  32K545                      EBC-HS FOR PUB SERVICE (BUSH)   \n",
       " 255  32K552                          Academy of Urban Planning   \n",
       " 256  32K554               All City Leadership Secondary School   \n",
       " 257  32K556  Bushwick Leaders High School for Academic Exce...   \n",
       " \n",
       "      AP Test Takers   Total Exams Taken  Number of Exams with scores 3 4 or 5  \n",
       " 0               39.0               49.0                                  10.0  \n",
       " 1               19.0               21.0                                   NaN  \n",
       " 2               24.0               26.0                                  24.0  \n",
       " 3              255.0              377.0                                 191.0  \n",
       " 4                NaN                NaN                                   NaN  \n",
       " ..               ...                ...                                   ...  \n",
       " 253            528.0              905.0                                 809.0  \n",
       " 254             47.0               64.0                                  13.0  \n",
       " 255             76.0              100.0                                  10.0  \n",
       " 256              7.0                8.0                                   NaN  \n",
       " 257             34.0               35.0                                  18.0  \n",
       " \n",
       " [258 rows x 5 columns],\n",
       " 'class_size':        CSD BOROUGH SCHOOL CODE                     SCHOOL NAME GRADE   \\\n",
       " 0        1       M        M015       P.S. 015 Roberto Clemente     0K   \n",
       " 1        1       M        M015       P.S. 015 Roberto Clemente     0K   \n",
       " 2        1       M        M015       P.S. 015 Roberto Clemente     01   \n",
       " 3        1       M        M015       P.S. 015 Roberto Clemente     01   \n",
       " 4        1       M        M015       P.S. 015 Roberto Clemente     02   \n",
       " ...    ...     ...         ...                             ...    ...   \n",
       " 27606   32       K        K564  Bushwick Community High School  09-12   \n",
       " 27607   32       K        K564  Bushwick Community High School  09-12   \n",
       " 27608   32       K        K564  Bushwick Community High School  09-12   \n",
       " 27609   32       K        K564  Bushwick Community High School  09-12   \n",
       " 27610   32       K        K564  Bushwick Community High School    NaN   \n",
       " \n",
       "       PROGRAM TYPE CORE SUBJECT (MS CORE and 9-12 ONLY)  \\\n",
       " 0           GEN ED                                    -   \n",
       " 1              CTT                                    -   \n",
       " 2           GEN ED                                    -   \n",
       " 3              CTT                                    -   \n",
       " 4           GEN ED                                    -   \n",
       " ...            ...                                  ...   \n",
       " 27606       GEN ED                       SOCIAL STUDIES   \n",
       " 27607       GEN ED                       SOCIAL STUDIES   \n",
       " 27608       GEN ED                       SOCIAL STUDIES   \n",
       " 27609          CTT                                 MATH   \n",
       " 27610          NaN                                  NaN   \n",
       " \n",
       "       CORE COURSE (MS CORE and 9-12 ONLY) SERVICE CATEGORY(K-9* ONLY)  \\\n",
       " 0                                       -                           -   \n",
       " 1                                       -                           -   \n",
       " 2                                       -                           -   \n",
       " 3                                       -                           -   \n",
       " 4                                       -                           -   \n",
       " ...                                   ...                         ...   \n",
       " 27606             US History & Government                           -   \n",
       " 27607                           Economics                           -   \n",
       " 27608         Participation in Government                           -   \n",
       " 27609                  Integrated Algebra                           -   \n",
       " 27610                                 NaN                         NaN   \n",
       " \n",
       "        NUMBER OF STUDENTS / SEATS FILLED  NUMBER OF SECTIONS  \\\n",
       " 0                                   19.0                 1.0   \n",
       " 1                                   21.0                 1.0   \n",
       " 2                                   17.0                 1.0   \n",
       " 3                                   17.0                 1.0   \n",
       " 4                                   15.0                 1.0   \n",
       " ...                                  ...                 ...   \n",
       " 27606                              256.0                10.0   \n",
       " 27607                               65.0                 2.0   \n",
       " 27608                               53.0                 2.0   \n",
       " 27609                               50.0                 2.0   \n",
       " 27610                                NaN                 NaN   \n",
       " \n",
       "        AVERAGE CLASS SIZE  SIZE OF SMALLEST CLASS  SIZE OF LARGEST CLASS  \\\n",
       " 0                    19.0                    19.0                   19.0   \n",
       " 1                    21.0                    21.0                   21.0   \n",
       " 2                    17.0                    17.0                   17.0   \n",
       " 3                    17.0                    17.0                   17.0   \n",
       " 4                    15.0                    15.0                   15.0   \n",
       " ...                   ...                     ...                    ...   \n",
       " 27606                25.6                    15.0                   35.0   \n",
       " 27607                32.5                    32.0                   33.0   \n",
       " 27608                26.5                    25.0                   28.0   \n",
       " 27609                25.0                    25.0                   25.0   \n",
       " 27610                 NaN                     NaN                    NaN   \n",
       " \n",
       "       DATA SOURCE  SCHOOLWIDE PUPIL-TEACHER RATIO  \n",
       " 0             ATS                             NaN  \n",
       " 1             ATS                             NaN  \n",
       " 2             ATS                             NaN  \n",
       " 3             ATS                             NaN  \n",
       " 4             ATS                             NaN  \n",
       " ...           ...                             ...  \n",
       " 27606       STARS                             NaN  \n",
       " 27607       STARS                             NaN  \n",
       " 27608       STARS                             NaN  \n",
       " 27609       STARS                             NaN  \n",
       " 27610         NaN                            17.1  \n",
       " \n",
       " [27611 rows x 16 columns],\n",
       " 'demographics':           DBN                                              Name  schoolyear  \\\n",
       " 0      01M015                         P.S. 015 ROBERTO CLEMENTE    20052006   \n",
       " 1      01M015                         P.S. 015 ROBERTO CLEMENTE    20062007   \n",
       " 2      01M015                         P.S. 015 ROBERTO CLEMENTE    20072008   \n",
       " 3      01M015                         P.S. 015 ROBERTO CLEMENTE    20082009   \n",
       " 4      01M015                         P.S. 015 ROBERTO CLEMENTE    20092010   \n",
       " ...       ...                                               ...         ...   \n",
       " 10070  32K564                    BUSHWICK COMMUNITY HIGH SCHOOL    20072008   \n",
       " 10071  32K564                    BUSHWICK COMMUNITY HIGH SCHOOL    20082009   \n",
       " 10072  32K564                    BUSHWICK COMMUNITY HIGH SCHOOL    20092010   \n",
       " 10073  32K564                    BUSHWICK COMMUNITY HIGH SCHOOL    20102011   \n",
       " 10074  32K564  BUSHWICK COMMUNITY HIGH SCHOOL                      20112012   \n",
       " \n",
       "       fl_percent  frl_percent  total_enrollment  prek     k grade1 grade2  \\\n",
       " 0           89.4          NaN               281    15    36     40     33   \n",
       " 1           89.4          NaN               243    15    29     39     38   \n",
       " 2           89.4          NaN               261    18    43     39     36   \n",
       " 3           89.4          NaN               252    17    37     44     32   \n",
       " 4                        96.5               208    16    40     28     32   \n",
       " ...          ...          ...               ...   ...   ...    ...    ...   \n",
       " 10070       85.6          NaN               355   NaN   NaN    NaN    NaN   \n",
       " 10071       65.2          NaN               383   NaN   NaN    NaN    NaN   \n",
       " 10072                    89.2               395   NaN   NaN    NaN    NaN   \n",
       " 10073                    88.2               420   NaN   NaN    NaN    NaN   \n",
       " 10074        NaN         81.8               382                             \n",
       " \n",
       "        ... black_num black_per hispanic_num hispanic_per white_num white_per  \\\n",
       " 0      ...        74      26.3          189         67.3         5       1.8   \n",
       " 1      ...        68      28.0          153         63.0         4       1.6   \n",
       " 2      ...        77      29.5          157         60.2         7       2.7   \n",
       " 3      ...        75      29.8          149         59.1         7       2.8   \n",
       " 4      ...        67      32.2          118         56.7         6       2.9   \n",
       " ...    ...       ...       ...          ...          ...       ...       ...   \n",
       " 10070  ...       151      42.5          198         55.8         5       1.4   \n",
       " 10071  ...       132      34.5          245         64.0         2       0.5   \n",
       " 10072  ...       146      37.0          242         61.3         3       0.8   \n",
       " 10073  ...       166      39.5          242         57.6         8       1.9   \n",
       " 10074  ...       137      35.9          235         61.5         7       1.8   \n",
       " \n",
       "       male_num male_per female_num female_per  \n",
       " 0        158.0     56.2      123.0       43.8  \n",
       " 1        140.0     57.6      103.0       42.4  \n",
       " 2        143.0     54.8      118.0       45.2  \n",
       " 3        149.0     59.1      103.0       40.9  \n",
       " 4        124.0     59.6       84.0       40.4  \n",
       " ...        ...      ...        ...        ...  \n",
       " 10070    181.0     51.0      174.0       49.0  \n",
       " 10071    206.0     53.8      177.0       46.2  \n",
       " 10072    199.0     50.4      196.0       49.6  \n",
       " 10073    209.0     49.8      211.0       50.2  \n",
       " 10074    169.0     44.2      213.0       55.8  \n",
       " \n",
       " [10075 rows x 38 columns],\n",
       " 'graduation':         Demographic     DBN                            School Name    Cohort  \\\n",
       " 0      Total Cohort  01M292  HENRY STREET SCHOOL FOR INTERNATIONAL      2003   \n",
       " 1      Total Cohort  01M292  HENRY STREET SCHOOL FOR INTERNATIONAL      2004   \n",
       " 2      Total Cohort  01M292  HENRY STREET SCHOOL FOR INTERNATIONAL      2005   \n",
       " 3      Total Cohort  01M292  HENRY STREET SCHOOL FOR INTERNATIONAL      2006   \n",
       " 4      Total Cohort  01M292  HENRY STREET SCHOOL FOR INTERNATIONAL  2006 Aug   \n",
       " ...             ...     ...                                    ...       ...   \n",
       " 25091          Male  32K564         BUSHWICK COMMUNITY HIGH SCHOOL      2003   \n",
       " 25092          Male  32K564         BUSHWICK COMMUNITY HIGH SCHOOL      2004   \n",
       " 25093          Male  32K564         BUSHWICK COMMUNITY HIGH SCHOOL      2005   \n",
       " 25094          Male  32K564         BUSHWICK COMMUNITY HIGH SCHOOL      2006   \n",
       " 25095          Male  32K564         BUSHWICK COMMUNITY HIGH SCHOOL  2006 Aug   \n",
       " \n",
       "        Total Cohort Total Grads - n  Total Grads - % of cohort  \\\n",
       " 0                 5               s                        NaN   \n",
       " 1                55              37                       67.3   \n",
       " 2                64              43                       67.2   \n",
       " 3                78              43                       55.1   \n",
       " 4                78              44                       56.4   \n",
       " ...             ...             ...                        ...   \n",
       " 25091            65               1                        1.5   \n",
       " 25092            64               2                        3.1   \n",
       " 25093            79               3                        3.8   \n",
       " 25094            57               4                        7.0   \n",
       " 25095            57               4                        7.0   \n",
       " \n",
       "       Total Regents - n  Total Regents - % of cohort  \\\n",
       " 0                     s                          NaN   \n",
       " 1                    17                         30.9   \n",
       " 2                    27                         42.2   \n",
       " 3                    36                         46.2   \n",
       " 4                    37                         47.4   \n",
       " ...                 ...                          ...   \n",
       " 25091                 0                          0.0   \n",
       " 25092                 0                          0.0   \n",
       " 25093                 1                          1.3   \n",
       " 25094                 2                          3.5   \n",
       " 25095                 2                          3.5   \n",
       " \n",
       "        Total Regents - % of grads  ... Regents w/o Advanced - n  \\\n",
       " 0                             NaN  ...                        s   \n",
       " 1                            45.9  ...                       17   \n",
       " 2                            62.8  ...                       27   \n",
       " 3                            83.7  ...                       36   \n",
       " 4                            84.1  ...                       37   \n",
       " ...                           ...  ...                      ...   \n",
       " 25091                         0.0  ...                        0   \n",
       " 25092                         0.0  ...                        0   \n",
       " 25093                        33.3  ...                        1   \n",
       " 25094                        50.0  ...                        2   \n",
       " 25095                        50.0  ...                        2   \n",
       " \n",
       "        Regents w/o Advanced - % of cohort  Regents w/o Advanced - % of grads  \\\n",
       " 0                                     NaN                                NaN   \n",
       " 1                                    30.9                               45.9   \n",
       " 2                                    42.2                               62.8   \n",
       " 3                                    46.2                               83.7   \n",
       " 4                                    47.4                               84.1   \n",
       " ...                                   ...                                ...   \n",
       " 25091                                 0.0                                0.0   \n",
       " 25092                                 0.0                                0.0   \n",
       " 25093                                 1.3                               33.3   \n",
       " 25094                                 3.5                               50.0   \n",
       " 25095                                 3.5                               50.0   \n",
       " \n",
       "       Local - n  Local - % of cohort  Local - % of grads Still Enrolled - n  \\\n",
       " 0             s                  NaN                 NaN                  s   \n",
       " 1            20                 36.4                54.1                 15   \n",
       " 2            16                 25.0                37.2                  9   \n",
       " 3             7                  9.0                16.3                 16   \n",
       " 4             7                  9.0                15.9                 15   \n",
       " ...         ...                  ...                 ...                ...   \n",
       " 25091         1                  1.5               100.0               44.0   \n",
       " 25092         2                  3.1               100.0               38.0   \n",
       " 25093         2                  2.5                66.7               46.0   \n",
       " 25094         2                  3.5                50.0               34.0   \n",
       " 25095         2                  3.5                50.0               34.0   \n",
       " \n",
       "        Still Enrolled - % of cohort  Dropped Out - n Dropped Out - % of cohort  \n",
       " 0                               NaN                s                       NaN  \n",
       " 1                              27.3                3                       5.5  \n",
       " 2                              14.1                9                      14.1  \n",
       " 3                              20.5               11                      14.1  \n",
       " 4                              19.2               11                      14.1  \n",
       " ...                             ...              ...                       ...  \n",
       " 25091                          67.7             20.0                      30.8  \n",
       " 25092                          59.4             22.0                      34.4  \n",
       " 25093                          58.2             28.0                      35.4  \n",
       " 25094                          59.6             17.0                      29.8  \n",
       " 25095                          59.6             17.0                      29.8  \n",
       " \n",
       " [25096 rows x 23 columns],\n",
       " 'hs_directory':         dbn                                        school_name    borough  \\\n",
       " 0    21K540                             John Dewey High School   Brooklyn   \n",
       " 1    15K429                 Brooklyn School for Global Studies   Brooklyn   \n",
       " 2    24Q530  International High School at LaGuardia Communi...     Queens   \n",
       " 3    05M367  Academy for Social Action: A College Board School  Manhattan   \n",
       " 4    27Q260          Frederick Douglass Academy VI High School     Queens   \n",
       " ..      ...                                                ...        ...   \n",
       " 430  02M300  Urban Assembly School of Design and Constructi...  Manhattan   \n",
       " 431  09X412                      Bronx High School of Business      Bronx   \n",
       " 432  32K549                 Bushwick School for Social Justice   Brooklyn   \n",
       " 433  02M407              Institute for Collaborative Education  Manhattan   \n",
       " 434  21K344      Rachel Carson High School for Coastal Studies   Brooklyn   \n",
       " \n",
       "     building_code  phone_number    fax_number  grade_span_min  grade_span_max  \\\n",
       " 0            K540  718-373-6400  718-266-4385             9.0              12   \n",
       " 1            K293  718-694-9741  718-694-9745             6.0              12   \n",
       " 2            Q520  718-392-3433  718-392-3443             9.0              12   \n",
       " 3            M043  212-234-3102  212-234-8597             9.0              12   \n",
       " 4            Q465  718-471-2154  718-471-2890             9.0              12   \n",
       " ..            ...           ...           ...             ...             ...   \n",
       " 430          M535  212-586-0981  212-586-1731             9.0              12   \n",
       " 431          X410  718-410-4060  718-992-5760             9.0              12   \n",
       " 432          K480  718-381-7100  718-418-0192             9.0              12   \n",
       " 433          M475  212-475-7972  212-475-0459             6.0              12   \n",
       " 434          K303  718-265-0329  718-372-2514             9.0              12   \n",
       " \n",
       "      expgrade_span_min  expgrade_span_max  ... priority08 priority09  \\\n",
       " 0                  NaN                NaN  ...        NaN        NaN   \n",
       " 1                  NaN                NaN  ...        NaN        NaN   \n",
       " 2                  NaN                NaN  ...        NaN        NaN   \n",
       " 3                  NaN                NaN  ...        NaN        NaN   \n",
       " 4                  NaN                NaN  ...        NaN        NaN   \n",
       " ..                 ...                ...  ...        ...        ...   \n",
       " 430                NaN                NaN  ...        NaN        NaN   \n",
       " 431                NaN                NaN  ...        NaN        NaN   \n",
       " 432                NaN                NaN  ...        NaN        NaN   \n",
       " 433                NaN                NaN  ...        NaN        NaN   \n",
       " 434                NaN                NaN  ...        NaN        NaN   \n",
       " \n",
       "     priority10                                         Location 1  \\\n",
       " 0          NaN  50 Avenue\\nX Brooklyn, NY 11223\\n(40.589238098...   \n",
       " 1          NaN  284 Baltic Street\\nBrooklyn, NY 11201\\n(40.685...   \n",
       " 2          NaN  45 35 Van Dam Street\\nLong Island City, NY 111...   \n",
       " 3          NaN  509 West 129 Street\\nNew York, NY 10027\\n(40.8...   \n",
       " 4          NaN  8 21 Bay 25 Street\\nFar Rockaway, NY 11691\\n(4...   \n",
       " ..         ...                                                ...   \n",
       " 430        NaN  525 West 50Th Street\\nNew York, NY 10019\\n(40....   \n",
       " 431        NaN  240 East 172 Street\\nBronx, NY 10457\\n(40.8403...   \n",
       " 432        NaN  400 Irving Avenue\\nBrooklyn, NY 11237\\n(40.696...   \n",
       " 433        NaN  345 East 15Th Street\\nNew York, NY 10003\\n(40....   \n",
       " 434        NaN  521 West Avenue\\nBrooklyn, NY 11224\\n(40.58211...   \n",
       " \n",
       "     Community Board  Council District Census Tract        BIN           BBL  \\\n",
       " 0              13.0              47.0        308.0  3194998.0  3.071850e+09   \n",
       " 1               6.0              33.0         69.0  3006401.0  3.004020e+09   \n",
       " 2               2.0              26.0        179.0  4003442.0  4.002490e+09   \n",
       " 3               9.0               7.0        219.0  1059723.0  1.019840e+09   \n",
       " 4              14.0              31.0     100802.0  4300730.0  4.157360e+09   \n",
       " ..              ...               ...          ...        ...           ...   \n",
       " 430             4.0               3.0        135.0  1083802.0  1.010790e+09   \n",
       " 431             4.0              16.0        225.0  2007806.0  2.028170e+09   \n",
       " 432             4.0              37.0        435.0  3076908.0  3.033650e+09   \n",
       " 433             6.0               2.0         48.0  1020419.0  1.009220e+09   \n",
       " 434            13.0              47.0        354.0  3196292.0  3.072500e+09   \n",
       " \n",
       "                                                    NTA  \n",
       " 0    Gravesend                                     ...  \n",
       " 1    DUMBO-Vinegar Hill-Downtown Brooklyn-Boerum Hi...  \n",
       " 2    Hunters Point-Sunnyside-West Maspeth          ...  \n",
       " 3    Manhattanville                                ...  \n",
       " 4    Far Rockaway-Bayswater                        ...  \n",
       " ..                                                 ...  \n",
       " 430  Clinton                                       ...  \n",
       " 431  East Concourse-Concourse Village              ...  \n",
       " 432  Bushwick North                                ...  \n",
       " 433  Gramercy                                      ...  \n",
       " 434  West Brighton                                 ...  \n",
       " \n",
       " [435 rows x 64 columns],\n",
       " 'SAT_results':         DBN                                    SCHOOL NAME  \\\n",
       " 0    01M292  HENRY STREET SCHOOL FOR INTERNATIONAL STUDIES   \n",
       " 1    01M448            UNIVERSITY NEIGHBORHOOD HIGH SCHOOL   \n",
       " 2    01M450                     EAST SIDE COMMUNITY SCHOOL   \n",
       " 3    01M458                      FORSYTH SATELLITE ACADEMY   \n",
       " 4    01M509                        MARTA VALLE HIGH SCHOOL   \n",
       " ..      ...                                            ...   \n",
       " 473  75X012               P.S. X012 LEWIS AND CLARK SCHOOL   \n",
       " 474  75X754        J. M. RAPPORT SCHOOL CAREER DEVELOPMENT   \n",
       " 475  79M645     SCHOOL FOR COOPERATIVE TECHNICAL EDUCATION   \n",
       " 476  79Q950                            GED PLUS s CITYWIDE   \n",
       " 477  79X490                                PHOENIX ACADEMY   \n",
       " \n",
       "     Num of SAT Test Takers SAT Critical Reading Avg. Score  \\\n",
       " 0                       29                             355   \n",
       " 1                       91                             383   \n",
       " 2                       70                             377   \n",
       " 3                        7                             414   \n",
       " 4                       44                             390   \n",
       " ..                     ...                             ...   \n",
       " 473                      s                               s   \n",
       " 474                      s                               s   \n",
       " 475                      s                               s   \n",
       " 476                      8                             496   \n",
       " 477                      9                             367   \n",
       " \n",
       "     SAT Math Avg. Score SAT Writing Avg. Score  \n",
       " 0                   404                    363  \n",
       " 1                   423                    366  \n",
       " 2                   402                    370  \n",
       " 3                   401                    359  \n",
       " 4                   433                    384  \n",
       " ..                  ...                    ...  \n",
       " 473                   s                      s  \n",
       " 474                   s                      s  \n",
       " 475                   s                      s  \n",
       " 476                 400                    426  \n",
       " 477                 370                    360  \n",
       " \n",
       " [478 rows x 6 columns]}"
      ]
     },
     "execution_count": 1,
     "metadata": {},
     "output_type": "execute_result"
    }
   ],
   "source": [
    "import pandas as pd\n",
    "import numpy\n",
    "import matplotlib.pyplot as plt\n",
    "%matplotlib inline\n",
    "\n",
    "data_files = [\n",
    "    \"ap_2010.csv\",\n",
    "    \"class_size.csv\",\n",
    "    \"demographics.csv\",\n",
    "    \"graduation.csv\",\n",
    "    \"hs_directory.csv\",\n",
    "    \"SAT_results.csv\"\n",
    "]\n",
    "data ={}\n",
    "\n",
    "# read each file into each dataframe and store all dataframes in a dictionary\n",
    "# this helps in storing and quick reference later on\n",
    "\n",
    "for f in data_files:\n",
    "    d = pd.read_csv(\"schools/{0}\".format(f))\n",
    "    key_name = f.replace(\".csv\", \"\")\n",
    "    data[key_name] = d\n",
    "    \n",
    "data"
   ]
  },
  {
   "cell_type": "markdown",
   "metadata": {},
   "source": [
    "We're mainly interested in the SAT data set, which corresponds to the dictionary key SAT_results. Let's explore SAT_results to see what we can discover. "
   ]
  },
  {
   "cell_type": "code",
   "execution_count": 2,
   "metadata": {},
   "outputs": [
    {
     "name": "stdout",
     "output_type": "stream",
     "text": [
      "      DBN                                    SCHOOL NAME  \\\n",
      "0  01M292  HENRY STREET SCHOOL FOR INTERNATIONAL STUDIES   \n",
      "1  01M448            UNIVERSITY NEIGHBORHOOD HIGH SCHOOL   \n",
      "2  01M450                     EAST SIDE COMMUNITY SCHOOL   \n",
      "3  01M458                      FORSYTH SATELLITE ACADEMY   \n",
      "4  01M509                        MARTA VALLE HIGH SCHOOL   \n",
      "\n",
      "  Num of SAT Test Takers SAT Critical Reading Avg. Score SAT Math Avg. Score  \\\n",
      "0                     29                             355                 404   \n",
      "1                     91                             383                 423   \n",
      "2                     70                             377                 402   \n",
      "3                      7                             414                 401   \n",
      "4                     44                             390                 433   \n",
      "\n",
      "  SAT Writing Avg. Score  \n",
      "0                    363  \n",
      "1                    366  \n",
      "2                    370  \n",
      "3                    359  \n",
      "4                    384  \n"
     ]
    }
   ],
   "source": [
    "print(data[\"SAT_results\"].head())"
   ]
  },
  {
   "cell_type": "markdown",
   "metadata": {},
   "source": [
    "We can make some observations based on this output:\n",
    "- The DBN is the unique ID for each school\n",
    "- From the first few rows of SAT_results dataframe, we can see that we only have high schools.\n",
    "- There is only a single row for each high school. so each DBN is unique in the SAT data. \n",
    "- We may eventually want to combine the 3 columns that contain SAT scores (\"SAT Writing Avg. Score\", \"SAT Critical Reading Avg. Score\", \"SAT Math Avg. Score\") into a single column to make the scores easier to analyze.\n",
    "\n",
    "Besides that, let's explore the reamaining data to see if we can gain any insight into how to combine them."
   ]
  },
  {
   "cell_type": "code",
   "execution_count": 3,
   "metadata": {},
   "outputs": [
    {
     "name": "stdout",
     "output_type": "stream",
     "text": [
      "      DBN                             SchoolName  AP Test Takers   \\\n",
      "0  01M448           UNIVERSITY NEIGHBORHOOD H.S.             39.0   \n",
      "1  01M450                 EAST SIDE COMMUNITY HS             19.0   \n",
      "2  01M515                    LOWER EASTSIDE PREP             24.0   \n",
      "3  01M539         NEW EXPLORATIONS SCI,TECH,MATH            255.0   \n",
      "4  02M296  High School of Hospitality Management              NaN   \n",
      "\n",
      "   Total Exams Taken  Number of Exams with scores 3 4 or 5  \n",
      "0               49.0                                  10.0  \n",
      "1               21.0                                   NaN  \n",
      "2               26.0                                  24.0  \n",
      "3              377.0                                 191.0  \n",
      "4                NaN                                   NaN  \n",
      "   CSD BOROUGH SCHOOL CODE                SCHOOL NAME GRADE  PROGRAM TYPE  \\\n",
      "0    1       M        M015  P.S. 015 Roberto Clemente     0K       GEN ED   \n",
      "1    1       M        M015  P.S. 015 Roberto Clemente     0K          CTT   \n",
      "2    1       M        M015  P.S. 015 Roberto Clemente     01       GEN ED   \n",
      "3    1       M        M015  P.S. 015 Roberto Clemente     01          CTT   \n",
      "4    1       M        M015  P.S. 015 Roberto Clemente     02       GEN ED   \n",
      "\n",
      "  CORE SUBJECT (MS CORE and 9-12 ONLY) CORE COURSE (MS CORE and 9-12 ONLY)  \\\n",
      "0                                    -                                   -   \n",
      "1                                    -                                   -   \n",
      "2                                    -                                   -   \n",
      "3                                    -                                   -   \n",
      "4                                    -                                   -   \n",
      "\n",
      "  SERVICE CATEGORY(K-9* ONLY)  NUMBER OF STUDENTS / SEATS FILLED  \\\n",
      "0                           -                               19.0   \n",
      "1                           -                               21.0   \n",
      "2                           -                               17.0   \n",
      "3                           -                               17.0   \n",
      "4                           -                               15.0   \n",
      "\n",
      "   NUMBER OF SECTIONS  AVERAGE CLASS SIZE  SIZE OF SMALLEST CLASS  \\\n",
      "0                 1.0                19.0                    19.0   \n",
      "1                 1.0                21.0                    21.0   \n",
      "2                 1.0                17.0                    17.0   \n",
      "3                 1.0                17.0                    17.0   \n",
      "4                 1.0                15.0                    15.0   \n",
      "\n",
      "   SIZE OF LARGEST CLASS DATA SOURCE  SCHOOLWIDE PUPIL-TEACHER RATIO  \n",
      "0                   19.0         ATS                             NaN  \n",
      "1                   21.0         ATS                             NaN  \n",
      "2                   17.0         ATS                             NaN  \n",
      "3                   17.0         ATS                             NaN  \n",
      "4                   15.0         ATS                             NaN  \n",
      "      DBN                       Name  schoolyear fl_percent  frl_percent  \\\n",
      "0  01M015  P.S. 015 ROBERTO CLEMENTE    20052006       89.4          NaN   \n",
      "1  01M015  P.S. 015 ROBERTO CLEMENTE    20062007       89.4          NaN   \n",
      "2  01M015  P.S. 015 ROBERTO CLEMENTE    20072008       89.4          NaN   \n",
      "3  01M015  P.S. 015 ROBERTO CLEMENTE    20082009       89.4          NaN   \n",
      "4  01M015  P.S. 015 ROBERTO CLEMENTE    20092010                    96.5   \n",
      "\n",
      "   total_enrollment prek   k grade1 grade2  ... black_num black_per  \\\n",
      "0               281   15  36     40     33  ...        74      26.3   \n",
      "1               243   15  29     39     38  ...        68      28.0   \n",
      "2               261   18  43     39     36  ...        77      29.5   \n",
      "3               252   17  37     44     32  ...        75      29.8   \n",
      "4               208   16  40     28     32  ...        67      32.2   \n",
      "\n",
      "  hispanic_num hispanic_per white_num white_per male_num male_per female_num  \\\n",
      "0          189         67.3         5       1.8    158.0     56.2      123.0   \n",
      "1          153         63.0         4       1.6    140.0     57.6      103.0   \n",
      "2          157         60.2         7       2.7    143.0     54.8      118.0   \n",
      "3          149         59.1         7       2.8    149.0     59.1      103.0   \n",
      "4          118         56.7         6       2.9    124.0     59.6       84.0   \n",
      "\n",
      "  female_per  \n",
      "0       43.8  \n",
      "1       42.4  \n",
      "2       45.2  \n",
      "3       40.9  \n",
      "4       40.4  \n",
      "\n",
      "[5 rows x 38 columns]\n",
      "    Demographic     DBN                            School Name    Cohort  \\\n",
      "0  Total Cohort  01M292  HENRY STREET SCHOOL FOR INTERNATIONAL      2003   \n",
      "1  Total Cohort  01M292  HENRY STREET SCHOOL FOR INTERNATIONAL      2004   \n",
      "2  Total Cohort  01M292  HENRY STREET SCHOOL FOR INTERNATIONAL      2005   \n",
      "3  Total Cohort  01M292  HENRY STREET SCHOOL FOR INTERNATIONAL      2006   \n",
      "4  Total Cohort  01M292  HENRY STREET SCHOOL FOR INTERNATIONAL  2006 Aug   \n",
      "\n",
      "   Total Cohort Total Grads - n  Total Grads - % of cohort Total Regents - n  \\\n",
      "0             5               s                        NaN                 s   \n",
      "1            55              37                       67.3                17   \n",
      "2            64              43                       67.2                27   \n",
      "3            78              43                       55.1                36   \n",
      "4            78              44                       56.4                37   \n",
      "\n",
      "   Total Regents - % of cohort  Total Regents - % of grads  ...  \\\n",
      "0                          NaN                         NaN  ...   \n",
      "1                         30.9                        45.9  ...   \n",
      "2                         42.2                        62.8  ...   \n",
      "3                         46.2                        83.7  ...   \n",
      "4                         47.4                        84.1  ...   \n",
      "\n",
      "  Regents w/o Advanced - n  Regents w/o Advanced - % of cohort  \\\n",
      "0                        s                                 NaN   \n",
      "1                       17                                30.9   \n",
      "2                       27                                42.2   \n",
      "3                       36                                46.2   \n",
      "4                       37                                47.4   \n",
      "\n",
      "   Regents w/o Advanced - % of grads Local - n  Local - % of cohort  \\\n",
      "0                                NaN         s                  NaN   \n",
      "1                               45.9        20                 36.4   \n",
      "2                               62.8        16                 25.0   \n",
      "3                               83.7         7                  9.0   \n",
      "4                               84.1         7                  9.0   \n",
      "\n",
      "   Local - % of grads Still Enrolled - n  Still Enrolled - % of cohort  \\\n",
      "0                 NaN                  s                           NaN   \n",
      "1                54.1                 15                          27.3   \n",
      "2                37.2                  9                          14.1   \n",
      "3                16.3                 16                          20.5   \n",
      "4                15.9                 15                          19.2   \n",
      "\n",
      "   Dropped Out - n Dropped Out - % of cohort  \n",
      "0                s                       NaN  \n",
      "1                3                       5.5  \n",
      "2                9                      14.1  \n",
      "3               11                      14.1  \n",
      "4               11                      14.1  \n",
      "\n",
      "[5 rows x 23 columns]\n",
      "      dbn                                        school_name    borough  \\\n",
      "0  21K540                             John Dewey High School   Brooklyn   \n",
      "1  15K429                 Brooklyn School for Global Studies   Brooklyn   \n",
      "2  24Q530  International High School at LaGuardia Communi...     Queens   \n",
      "3  05M367  Academy for Social Action: A College Board School  Manhattan   \n",
      "4  27Q260          Frederick Douglass Academy VI High School     Queens   \n",
      "\n",
      "  building_code  phone_number    fax_number  grade_span_min  grade_span_max  \\\n",
      "0          K540  718-373-6400  718-266-4385             9.0              12   \n",
      "1          K293  718-694-9741  718-694-9745             6.0              12   \n",
      "2          Q520  718-392-3433  718-392-3443             9.0              12   \n",
      "3          M043  212-234-3102  212-234-8597             9.0              12   \n",
      "4          Q465  718-471-2154  718-471-2890             9.0              12   \n",
      "\n",
      "   expgrade_span_min  expgrade_span_max  ... priority08 priority09 priority10  \\\n",
      "0                NaN                NaN  ...        NaN        NaN        NaN   \n",
      "1                NaN                NaN  ...        NaN        NaN        NaN   \n",
      "2                NaN                NaN  ...        NaN        NaN        NaN   \n",
      "3                NaN                NaN  ...        NaN        NaN        NaN   \n",
      "4                NaN                NaN  ...        NaN        NaN        NaN   \n",
      "\n",
      "                                          Location 1 Community Board  \\\n",
      "0  50 Avenue\\nX Brooklyn, NY 11223\\n(40.589238098...            13.0   \n",
      "1  284 Baltic Street\\nBrooklyn, NY 11201\\n(40.685...             6.0   \n",
      "2  45 35 Van Dam Street\\nLong Island City, NY 111...             2.0   \n",
      "3  509 West 129 Street\\nNew York, NY 10027\\n(40.8...             9.0   \n",
      "4  8 21 Bay 25 Street\\nFar Rockaway, NY 11691\\n(4...            14.0   \n",
      "\n",
      "   Council District Census Tract        BIN           BBL  \\\n",
      "0              47.0        308.0  3194998.0  3.071850e+09   \n",
      "1              33.0         69.0  3006401.0  3.004020e+09   \n",
      "2              26.0        179.0  4003442.0  4.002490e+09   \n",
      "3               7.0        219.0  1059723.0  1.019840e+09   \n",
      "4              31.0     100802.0  4300730.0  4.157360e+09   \n",
      "\n",
      "                                                 NTA  \n",
      "0  Gravesend                                     ...  \n",
      "1  DUMBO-Vinegar Hill-Downtown Brooklyn-Boerum Hi...  \n",
      "2  Hunters Point-Sunnyside-West Maspeth          ...  \n",
      "3  Manhattanville                                ...  \n",
      "4  Far Rockaway-Bayswater                        ...  \n",
      "\n",
      "[5 rows x 64 columns]\n",
      "      DBN                                    SCHOOL NAME  \\\n",
      "0  01M292  HENRY STREET SCHOOL FOR INTERNATIONAL STUDIES   \n",
      "1  01M448            UNIVERSITY NEIGHBORHOOD HIGH SCHOOL   \n",
      "2  01M450                     EAST SIDE COMMUNITY SCHOOL   \n",
      "3  01M458                      FORSYTH SATELLITE ACADEMY   \n",
      "4  01M509                        MARTA VALLE HIGH SCHOOL   \n",
      "\n",
      "  Num of SAT Test Takers SAT Critical Reading Avg. Score SAT Math Avg. Score  \\\n",
      "0                     29                             355                 404   \n",
      "1                     91                             383                 423   \n",
      "2                     70                             377                 402   \n",
      "3                      7                             414                 401   \n",
      "4                     44                             390                 433   \n",
      "\n",
      "  SAT Writing Avg. Score  \n",
      "0                    363  \n",
      "1                    366  \n",
      "2                    370  \n",
      "3                    359  \n",
      "4                    384  \n"
     ]
    }
   ],
   "source": [
    "for key_name in data:\n",
    "    print(data[key_name].head())"
   ]
  },
  {
   "cell_type": "markdown",
   "metadata": {},
   "source": [
    "We can make some observations based on the first few rows of each one:\n",
    "- Each data set appear to either have a DBN column, or the information we need to create one. That means that we can use this column for aggregation. \n",
    "- Some fields look interesting for mapping - particularly \"Location 1\", which contains inside a larger string. \n",
    "- Some of the data sets appear to contain multiple rows for each school (because the rows have duplicate DBN values). This means that we have to do some preprocessing to ensure that each DBN is unique within each data set (for combing). \n",
    "\n",
    "Before jumping right in with the merge, we should make sure that we have all of the data we want to unify. This includes \"survey_all.txt\" and \"survey_d75.txt\". We did not read these files at first because they are in different format, a bit more complexed format."
   ]
  },
  {
   "cell_type": "code",
   "execution_count": 4,
   "metadata": {},
   "outputs": [
    {
     "name": "stdout",
     "output_type": "stream",
     "text": [
      "<_io.TextIOWrapper name='schools/survey_all.txt' mode='r' encoding='cp1252'>\n"
     ]
    }
   ],
   "source": [
    "with open('schools/survey_all.txt') as f:\n",
    "    print(f)"
   ]
  },
  {
   "cell_type": "code",
   "execution_count": 5,
   "metadata": {},
   "outputs": [
    {
     "name": "stdout",
     "output_type": "stream",
     "text": [
      "<_io.TextIOWrapper name='schools/survey_d75.txt' mode='r' encoding='cp1252'>\n"
     ]
    }
   ],
   "source": [
    "with open('schools/survey_d75.txt') as f:\n",
    "    print(f)"
   ]
  },
  {
   "cell_type": "markdown",
   "metadata": {},
   "source": [
    "As can be seen above, the 2 files \"survey_all.txt\" and \"survey_d75.txt\" have quite strange encoding: \"cp1252\". With a bit of Googling, we come to know that this is Windows-1252 encoding. As of April 2020, 0.4% of all web sites declared use of Windows-1252, but at the same time 2.2% used ISO 8859-1 (0.9% of top-1000 websites), which by HTML5 standards should be considered the same encoding, so that 2.6% of web sites effectively use Windows-1252. We then read these 2 files into a single dataframe. "
   ]
  },
  {
   "cell_type": "code",
   "execution_count": 6,
   "metadata": {},
   "outputs": [
    {
     "name": "stderr",
     "output_type": "stream",
     "text": [
      "C:\\Users\\Little\\Anaconda3\\lib\\site-packages\\ipykernel_launcher.py:4: FutureWarning: Sorting because non-concatenation axis is not aligned. A future version\n",
      "of pandas will change to not sort by default.\n",
      "\n",
      "To accept the future behavior, pass 'sort=False'.\n",
      "\n",
      "To retain the current behavior and silence the warning, pass 'sort=True'.\n",
      "\n",
      "  after removing the cwd from sys.path.\n"
     ]
    },
    {
     "name": "stdout",
     "output_type": "stream",
     "text": [
      "     N_p    N_s   N_t  aca_p_11  aca_s_11  aca_t_11  aca_tot_11    bn  \\\n",
      "0   90.0    NaN  22.0       7.8       NaN       7.9         7.9  M015   \n",
      "1  161.0    NaN  34.0       7.8       NaN       9.1         8.4  M019   \n",
      "2  367.0    NaN  42.0       8.6       NaN       7.5         8.0  M020   \n",
      "3  151.0  145.0  29.0       8.5       7.4       7.8         7.9  M034   \n",
      "4   90.0    NaN  23.0       7.9       NaN       8.1         8.0  M063   \n",
      "\n",
      "   com_p_11  com_s_11  ...  t_q8c_1  t_q8c_2  t_q8c_3 t_q8c_4  t_q9  t_q9_1  \\\n",
      "0       7.6       NaN  ...     29.0     67.0      5.0     0.0   NaN     5.0   \n",
      "1       7.6       NaN  ...     74.0     21.0      6.0     0.0   NaN     3.0   \n",
      "2       8.3       NaN  ...     33.0     35.0     20.0    13.0   NaN     3.0   \n",
      "3       8.2       5.9  ...     21.0     45.0     28.0     7.0   NaN     0.0   \n",
      "4       7.9       NaN  ...     59.0     36.0      5.0     0.0   NaN    10.0   \n",
      "\n",
      "   t_q9_2  t_q9_3  t_q9_4  t_q9_5  \n",
      "0    14.0    52.0    24.0     5.0  \n",
      "1     6.0     3.0    78.0     9.0  \n",
      "2     5.0    16.0    70.0     5.0  \n",
      "3    18.0    32.0    39.0    11.0  \n",
      "4     5.0    10.0    60.0    15.0  \n",
      "\n",
      "[5 rows x 2773 columns]\n"
     ]
    }
   ],
   "source": [
    "all_survey = pd.read_csv(\"schools/survey_all.txt\", delimiter =\"\\t\", encoding=\"windows-1252\")\n",
    "d75_survey = pd.read_csv(\"schools/survey_d75.txt\", delimiter =\"\\t\", encoding=\"windows-1252\") \n",
    "\n",
    "survey =pd.concat([all_survey, d75_survey], axis=0)\n",
    "\n",
    "print(survey.head())"
   ]
  },
  {
   "cell_type": "markdown",
   "metadata": {},
   "source": [
    "There are 2 immediate facts that we can see in the data:\n",
    "- There are over 2000 columns, nearly all of which we don't actually need. We'll need to filter the data to remove the unecessary ones. Working with fewer columns will make it easier to print the dataframe out and find correlations within it.\n",
    "- The survey has a dbn column that we'll want to convert to uppercase (DBN). The conversion will make the column name consistemnt with the other data sets.\n",
    "\n",
    "\n",
    "## Cleaning the data for analysis\n",
    "\n",
    "### Survey data set\n",
    "\n",
    "Along with the file we download from the data source, there is a dictionary enclosed showing what each column represents. Based on our knowledge of the problem and the analysis we're trying to do, we can use the data dictionary to determine which columns to use. \n",
    "\n",
    "Based on the dictionary, it looks like these are the relevant columns: [\"dbn\", \"rr_s\", \"rr_t\", \"rr_p\", \"N_s\", \"N_t\", \"N_p\", \"saf_p_11\", \"com_p_11\", \"eng_p_11\", \"aca_p_11\", \"saf_t_11\", \"com_t_11\", \"eng_t_11\", \"aca_t_11\", \"saf_s_11\", \"com_s_11\", \"eng_s_11\", \"aca_s_11\", \"saf_tot_11\", \"com_tot_11\", \"eng_tot_11\", \"aca_tot_11\"]\n",
    "\n",
    "Before we filter columns out, we'll want to copy the data from the dbn column into a new column called \"DBN\". "
   ]
  },
  {
   "cell_type": "code",
   "execution_count": 7,
   "metadata": {},
   "outputs": [],
   "source": [
    "# copy the data from the dbn column of survey into a new column in survey called DBN\n",
    "survey['DBN'] = survey['dbn']"
   ]
  },
  {
   "cell_type": "code",
   "execution_count": 8,
   "metadata": {},
   "outputs": [
    {
     "name": "stdout",
     "output_type": "stream",
     "text": [
      "<class 'pandas.core.frame.DataFrame'>\n",
      "Int64Index: 1702 entries, 0 to 55\n",
      "Data columns (total 23 columns):\n",
      "DBN           1702 non-null object\n",
      "rr_s          1041 non-null float64\n",
      "rr_t          1702 non-null int64\n",
      "rr_p          1702 non-null int64\n",
      "N_s           1036 non-null float64\n",
      "N_t           1700 non-null float64\n",
      "N_p           1696 non-null float64\n",
      "saf_p_11      1696 non-null float64\n",
      "com_p_11      1696 non-null float64\n",
      "eng_p_11      1696 non-null float64\n",
      "aca_p_11      1696 non-null float64\n",
      "saf_t_11      1700 non-null float64\n",
      "com_t_11      1700 non-null float64\n",
      "eng_t_11      1700 non-null float64\n",
      "aca_t_11      1700 non-null float64\n",
      "saf_s_11      1036 non-null float64\n",
      "com_s_11      1036 non-null float64\n",
      "eng_s_11      1036 non-null float64\n",
      "aca_s_11      1036 non-null float64\n",
      "saf_tot_11    1702 non-null float64\n",
      "com_tot_11    1702 non-null float64\n",
      "eng_tot_11    1702 non-null float64\n",
      "aca_tot_11    1702 non-null float64\n",
      "dtypes: float64(20), int64(2), object(1)\n",
      "memory usage: 319.1+ KB\n"
     ]
    }
   ],
   "source": [
    "# filter survey dataframe so that it contains only the columns we listed above\n",
    "survey_fields = [\n",
    "    \"DBN\", \n",
    "    \"rr_s\", \n",
    "    \"rr_t\", \n",
    "    \"rr_p\", \n",
    "    \"N_s\", \n",
    "    \"N_t\", \n",
    "    \"N_p\", \n",
    "    \"saf_p_11\", \n",
    "    \"com_p_11\", \n",
    "    \"eng_p_11\", \n",
    "    \"aca_p_11\", \n",
    "    \"saf_t_11\", \n",
    "    \"com_t_11\", \n",
    "    \"eng_t_11\", \n",
    "    \"aca_t_11\", \n",
    "    \"saf_s_11\", \n",
    "    \"com_s_11\", \n",
    "    \"eng_s_11\", \n",
    "    \"aca_s_11\", \n",
    "    \"saf_tot_11\", \n",
    "    \"com_tot_11\", \n",
    "    \"eng_tot_11\", \n",
    "    \"aca_tot_11\",\n",
    "]\n",
    "\n",
    "survey = survey.loc[:,survey_fields]\n",
    "data[\"survey\"] = survey\n",
    "\n",
    "survey.info()"
   ]
  },
  {
   "cell_type": "markdown",
   "metadata": {},
   "source": [
    "When we did data exploration, we noticed that some data sets did not have a 'DBN' column (class_size and hs_directory). In particular, hs_directory does have a 'dbn' column, though, so we can just rename it.  However, class_size does not appear to have that column at all. \n",
    "\n",
    "### Class_size and hs_directory data sets"
   ]
  },
  {
   "cell_type": "code",
   "execution_count": 9,
   "metadata": {},
   "outputs": [
    {
     "name": "stdout",
     "output_type": "stream",
     "text": [
      "   CSD BOROUGH SCHOOL CODE                SCHOOL NAME GRADE  PROGRAM TYPE  \\\n",
      "0    1       M        M015  P.S. 015 Roberto Clemente     0K       GEN ED   \n",
      "1    1       M        M015  P.S. 015 Roberto Clemente     0K          CTT   \n",
      "2    1       M        M015  P.S. 015 Roberto Clemente     01       GEN ED   \n",
      "3    1       M        M015  P.S. 015 Roberto Clemente     01          CTT   \n",
      "4    1       M        M015  P.S. 015 Roberto Clemente     02       GEN ED   \n",
      "\n",
      "  CORE SUBJECT (MS CORE and 9-12 ONLY) CORE COURSE (MS CORE and 9-12 ONLY)  \\\n",
      "0                                    -                                   -   \n",
      "1                                    -                                   -   \n",
      "2                                    -                                   -   \n",
      "3                                    -                                   -   \n",
      "4                                    -                                   -   \n",
      "\n",
      "  SERVICE CATEGORY(K-9* ONLY)  NUMBER OF STUDENTS / SEATS FILLED  \\\n",
      "0                           -                               19.0   \n",
      "1                           -                               21.0   \n",
      "2                           -                               17.0   \n",
      "3                           -                               17.0   \n",
      "4                           -                               15.0   \n",
      "\n",
      "   NUMBER OF SECTIONS  AVERAGE CLASS SIZE  SIZE OF SMALLEST CLASS  \\\n",
      "0                 1.0                19.0                    19.0   \n",
      "1                 1.0                21.0                    21.0   \n",
      "2                 1.0                17.0                    17.0   \n",
      "3                 1.0                17.0                    17.0   \n",
      "4                 1.0                15.0                    15.0   \n",
      "\n",
      "   SIZE OF LARGEST CLASS DATA SOURCE  SCHOOLWIDE PUPIL-TEACHER RATIO  \n",
      "0                   19.0         ATS                             NaN  \n",
      "1                   21.0         ATS                             NaN  \n",
      "2                   17.0         ATS                             NaN  \n",
      "3                   17.0         ATS                             NaN  \n",
      "4                   15.0         ATS                             NaN  \n"
     ]
    }
   ],
   "source": [
    "# first few rows of class_size dataframe\n",
    "print(data[\"class_size\"].head())"
   ]
  },
  {
   "cell_type": "markdown",
   "metadata": {},
   "source": [
    "From looking at these rows of class_size, we can tell that the DBN is just a combination of CSD and SCHOOL CODE columns. The main difference is that DBN is padded, so that the CSD portion of it alwayds consists of 2 digits. That means that we'll need to add a leading 0 to the CSD if CSD is less than 2 digits long. We'll then modify these 2 dataframes: hs_directory and class_size."
   ]
  },
  {
   "cell_type": "code",
   "execution_count": 10,
   "metadata": {},
   "outputs": [],
   "source": [
    "# change dbn into DBN column in hs_directory\n",
    "data[\"hs_directory\"][\"DBN\"] = data[\"hs_directory\"][\"dbn\"]"
   ]
  },
  {
   "cell_type": "code",
   "execution_count": 11,
   "metadata": {},
   "outputs": [
    {
     "name": "stdout",
     "output_type": "stream",
     "text": [
      "   CSD BOROUGH SCHOOL CODE                SCHOOL NAME GRADE  PROGRAM TYPE  \\\n",
      "0    1       M        M015  P.S. 015 Roberto Clemente     0K       GEN ED   \n",
      "1    1       M        M015  P.S. 015 Roberto Clemente     0K          CTT   \n",
      "2    1       M        M015  P.S. 015 Roberto Clemente     01       GEN ED   \n",
      "3    1       M        M015  P.S. 015 Roberto Clemente     01          CTT   \n",
      "4    1       M        M015  P.S. 015 Roberto Clemente     02       GEN ED   \n",
      "\n",
      "  CORE SUBJECT (MS CORE and 9-12 ONLY) CORE COURSE (MS CORE and 9-12 ONLY)  \\\n",
      "0                                    -                                   -   \n",
      "1                                    -                                   -   \n",
      "2                                    -                                   -   \n",
      "3                                    -                                   -   \n",
      "4                                    -                                   -   \n",
      "\n",
      "  SERVICE CATEGORY(K-9* ONLY)  NUMBER OF STUDENTS / SEATS FILLED  \\\n",
      "0                           -                               19.0   \n",
      "1                           -                               21.0   \n",
      "2                           -                               17.0   \n",
      "3                           -                               17.0   \n",
      "4                           -                               15.0   \n",
      "\n",
      "   NUMBER OF SECTIONS  AVERAGE CLASS SIZE  SIZE OF SMALLEST CLASS  \\\n",
      "0                 1.0                19.0                    19.0   \n",
      "1                 1.0                21.0                    21.0   \n",
      "2                 1.0                17.0                    17.0   \n",
      "3                 1.0                17.0                    17.0   \n",
      "4                 1.0                15.0                    15.0   \n",
      "\n",
      "   SIZE OF LARGEST CLASS DATA SOURCE  SCHOOLWIDE PUPIL-TEACHER RATIO  \\\n",
      "0                   19.0         ATS                             NaN   \n",
      "1                   21.0         ATS                             NaN   \n",
      "2                   17.0         ATS                             NaN   \n",
      "3                   17.0         ATS                             NaN   \n",
      "4                   15.0         ATS                             NaN   \n",
      "\n",
      "  padded_csd     DBN  \n",
      "0         01  01M015  \n",
      "1         01  01M015  \n",
      "2         01  01M015  \n",
      "3         01  01M015  \n",
      "4         01  01M015  \n",
      "0    01M015\n",
      "1    01M015\n",
      "2    01M015\n",
      "3    01M015\n",
      "4    01M015\n",
      "Name: DBN, dtype: object\n"
     ]
    }
   ],
   "source": [
    "# create a new column in class_size dataframe with modified CSD (into 2 digits)\n",
    "data[\"class_size\"][\"padded_csd\"] = data[\"class_size\"][\"CSD\"].apply(lambda num: str(num).zfill(2))\n",
    "\n",
    "data[\"class_size\"][\"DBN\"] = data[\"class_size\"][\"padded_csd\"] + data[\"class_size\"][\"SCHOOL CODE\"]\n",
    "\n",
    "print(data[\"class_size\"].head())\n",
    "print(data[\"class_size\"][\"DBN\"].head())"
   ]
  },
  {
   "cell_type": "markdown",
   "metadata": {},
   "source": [
    "Now all dataframe have a DBN column. As mentioned above, we will combine all SAT component scores into a single column that contains the total SAT scores. \n",
    "\n",
    "### SAT_results data set"
   ]
  },
  {
   "cell_type": "code",
   "execution_count": 12,
   "metadata": {},
   "outputs": [
    {
     "name": "stdout",
     "output_type": "stream",
     "text": [
      "<class 'pandas.core.frame.DataFrame'>\n",
      "RangeIndex: 478 entries, 0 to 477\n",
      "Data columns (total 6 columns):\n",
      "DBN                                478 non-null object\n",
      "SCHOOL NAME                        478 non-null object\n",
      "Num of SAT Test Takers             478 non-null object\n",
      "SAT Critical Reading Avg. Score    478 non-null object\n",
      "SAT Math Avg. Score                478 non-null object\n",
      "SAT Writing Avg. Score             478 non-null object\n",
      "dtypes: object(6)\n",
      "memory usage: 22.5+ KB\n"
     ]
    }
   ],
   "source": [
    "data[\"SAT_results\"].info()"
   ]
  },
  {
   "cell_type": "markdown",
   "metadata": {},
   "source": [
    "As we all know that object is a one-size-fit-all data type, we then need first to convert them into a numeric data type. This is due to the fact that if these 3 columns remain the same type 'object', we may likely not able to add them up together. "
   ]
  },
  {
   "cell_type": "code",
   "execution_count": 13,
   "metadata": {},
   "outputs": [
    {
     "name": "stdout",
     "output_type": "stream",
     "text": [
      "0    1122.0\n",
      "1    1172.0\n",
      "2    1149.0\n",
      "3    1174.0\n",
      "4    1207.0\n",
      "Name: sat_score, dtype: float64\n"
     ]
    }
   ],
   "source": [
    "cols = ['SAT Math Avg. Score', 'SAT Critical Reading Avg. Score', 'SAT Writing Avg. Score']\n",
    "for c in cols:\n",
    "    data[\"SAT_results\"][c] = pd.to_numeric(data[\"SAT_results\"][c], errors=\"coerce\")\n",
    "\n",
    "data['SAT_results']['sat_score'] = data['SAT_results'][cols[0]] + data['SAT_results'][cols[1]] + data['SAT_results'][cols[2]]\n",
    "print(data['SAT_results']['sat_score'].head())"
   ]
  },
  {
   "cell_type": "markdown",
   "metadata": {},
   "source": [
    "Next, we'll want to parse the latitude and longitude coordinates for each school. This will enable us to map the schools and uncover any geographic patterns in the data. \n",
    "\n",
    "### Parse latitude and longitude coordinates "
   ]
  },
  {
   "cell_type": "code",
   "execution_count": 14,
   "metadata": {},
   "outputs": [
    {
     "name": "stdout",
     "output_type": "stream",
     "text": [
      "      dbn                                        school_name    borough  \\\n",
      "0  21K540                             John Dewey High School   Brooklyn   \n",
      "1  15K429                 Brooklyn School for Global Studies   Brooklyn   \n",
      "2  24Q530  International High School at LaGuardia Communi...     Queens   \n",
      "3  05M367  Academy for Social Action: A College Board School  Manhattan   \n",
      "4  27Q260          Frederick Douglass Academy VI High School     Queens   \n",
      "\n",
      "  building_code  phone_number    fax_number  grade_span_min  grade_span_max  \\\n",
      "0          K540  718-373-6400  718-266-4385             9.0              12   \n",
      "1          K293  718-694-9741  718-694-9745             6.0              12   \n",
      "2          Q520  718-392-3433  718-392-3443             9.0              12   \n",
      "3          M043  212-234-3102  212-234-8597             9.0              12   \n",
      "4          Q465  718-471-2154  718-471-2890             9.0              12   \n",
      "\n",
      "   expgrade_span_min  expgrade_span_max  ... priority09 priority10  \\\n",
      "0                NaN                NaN  ...        NaN        NaN   \n",
      "1                NaN                NaN  ...        NaN        NaN   \n",
      "2                NaN                NaN  ...        NaN        NaN   \n",
      "3                NaN                NaN  ...        NaN        NaN   \n",
      "4                NaN                NaN  ...        NaN        NaN   \n",
      "\n",
      "                                          Location 1 Community Board  \\\n",
      "0  50 Avenue\\nX Brooklyn, NY 11223\\n(40.589238098...            13.0   \n",
      "1  284 Baltic Street\\nBrooklyn, NY 11201\\n(40.685...             6.0   \n",
      "2  45 35 Van Dam Street\\nLong Island City, NY 111...             2.0   \n",
      "3  509 West 129 Street\\nNew York, NY 10027\\n(40.8...             9.0   \n",
      "4  8 21 Bay 25 Street\\nFar Rockaway, NY 11691\\n(4...            14.0   \n",
      "\n",
      "  Council District  Census Tract        BIN           BBL  \\\n",
      "0             47.0         308.0  3194998.0  3.071850e+09   \n",
      "1             33.0          69.0  3006401.0  3.004020e+09   \n",
      "2             26.0         179.0  4003442.0  4.002490e+09   \n",
      "3              7.0         219.0  1059723.0  1.019840e+09   \n",
      "4             31.0      100802.0  4300730.0  4.157360e+09   \n",
      "\n",
      "                                                 NTA     DBN  \n",
      "0  Gravesend                                     ...  21K540  \n",
      "1  DUMBO-Vinegar Hill-Downtown Brooklyn-Boerum Hi...  15K429  \n",
      "2  Hunters Point-Sunnyside-West Maspeth          ...  24Q530  \n",
      "3  Manhattanville                                ...  05M367  \n",
      "4  Far Rockaway-Bayswater                        ...  27Q260  \n",
      "\n",
      "[5 rows x 65 columns]\n"
     ]
    }
   ],
   "source": [
    "print(data[\"hs_directory\"].head())"
   ]
  },
  {
   "cell_type": "markdown",
   "metadata": {},
   "source": [
    "As we can see above, the coordinates are stored in column named \"Location 1\". "
   ]
  },
  {
   "cell_type": "code",
   "execution_count": 15,
   "metadata": {},
   "outputs": [
    {
     "name": "stdout",
     "output_type": "stream",
     "text": [
      "0    50 Avenue\\nX Brooklyn, NY 11223\\n(40.589238098...\n",
      "1    284 Baltic Street\\nBrooklyn, NY 11201\\n(40.685...\n",
      "2    45 35 Van Dam Street\\nLong Island City, NY 111...\n",
      "3    509 West 129 Street\\nNew York, NY 10027\\n(40.8...\n",
      "4    8 21 Bay 25 Street\\nFar Rockaway, NY 11691\\n(4...\n",
      "Name: Location 1, dtype: object\n"
     ]
    }
   ],
   "source": [
    "# take a look at first few rows of Location 1\n",
    "print(data[\"hs_directory\"][\"Location 1\"].head())"
   ]
  },
  {
   "cell_type": "markdown",
   "metadata": {},
   "source": [
    "We notice that this column contains a lof of information we do not really need for thisa analysis. We only need the coordinates, which is the end of the field. We can do this with regular regression."
   ]
  },
  {
   "cell_type": "code",
   "execution_count": 16,
   "metadata": {},
   "outputs": [
    {
     "name": "stdout",
     "output_type": "stream",
     "text": [
      "      dbn                                        school_name    borough  \\\n",
      "0  21K540                             John Dewey High School   Brooklyn   \n",
      "1  15K429                 Brooklyn School for Global Studies   Brooklyn   \n",
      "2  24Q530  International High School at LaGuardia Communi...     Queens   \n",
      "3  05M367  Academy for Social Action: A College Board School  Manhattan   \n",
      "4  27Q260          Frederick Douglass Academy VI High School     Queens   \n",
      "\n",
      "  building_code  phone_number    fax_number  grade_span_min  grade_span_max  \\\n",
      "0          K540  718-373-6400  718-266-4385             9.0              12   \n",
      "1          K293  718-694-9741  718-694-9745             6.0              12   \n",
      "2          Q520  718-392-3433  718-392-3443             9.0              12   \n",
      "3          M043  212-234-3102  212-234-8597             9.0              12   \n",
      "4          Q465  718-471-2154  718-471-2890             9.0              12   \n",
      "\n",
      "   expgrade_span_min  expgrade_span_max  ...  \\\n",
      "0                NaN                NaN  ...   \n",
      "1                NaN                NaN  ...   \n",
      "2                NaN                NaN  ...   \n",
      "3                NaN                NaN  ...   \n",
      "4                NaN                NaN  ...   \n",
      "\n",
      "                                          Location 1 Community Board  \\\n",
      "0  50 Avenue\\nX Brooklyn, NY 11223\\n(40.589238098...            13.0   \n",
      "1  284 Baltic Street\\nBrooklyn, NY 11201\\n(40.685...             6.0   \n",
      "2  45 35 Van Dam Street\\nLong Island City, NY 111...             2.0   \n",
      "3  509 West 129 Street\\nNew York, NY 10027\\n(40.8...             9.0   \n",
      "4  8 21 Bay 25 Street\\nFar Rockaway, NY 11691\\n(4...            14.0   \n",
      "\n",
      "  Council District Census Tract        BIN           BBL  \\\n",
      "0             47.0        308.0  3194998.0  3.071850e+09   \n",
      "1             33.0         69.0  3006401.0  3.004020e+09   \n",
      "2             26.0        179.0  4003442.0  4.002490e+09   \n",
      "3              7.0        219.0  1059723.0  1.019840e+09   \n",
      "4             31.0     100802.0  4300730.0  4.157360e+09   \n",
      "\n",
      "                                                 NTA     DBN        lat  \\\n",
      "0  Gravesend                                     ...  21K540  40.589238   \n",
      "1  DUMBO-Vinegar Hill-Downtown Brooklyn-Boerum Hi...  15K429  40.685452   \n",
      "2  Hunters Point-Sunnyside-West Maspeth          ...  24Q530  40.744150   \n",
      "3  Manhattanville                                ...  05M367  40.815230   \n",
      "4  Far Rockaway-Bayswater                        ...  27Q260  40.601989   \n",
      "\n",
      "         lon  \n",
      "0 -73.981747  \n",
      "1 -73.993491  \n",
      "2 -73.933627  \n",
      "3 -73.955201  \n",
      "4 -73.762834  \n",
      "\n",
      "[5 rows x 67 columns]\n"
     ]
    }
   ],
   "source": [
    "import re\n",
    "\n",
    "# extract latitudes\n",
    "def find_lat(loc):\n",
    "    coords= re.findall(\"\\(.+\\)\", loc)\n",
    "    lat= coords[0].split(\",\")[0].replace(\"(\", \"\")\n",
    "    return lat\n",
    "\n",
    "data[\"hs_directory\"][\"lat\"] = data[\"hs_directory\"][\"Location 1\"].apply(find_lat)\n",
    "\n",
    "# extract longitudes\n",
    "def find_lon(loc):\n",
    "    coords = re.findall(\"\\(.+\\)\", loc)\n",
    "    lon = coords[0].split(\",\")[1].replace(\")\", \"\") .strip()\n",
    "    return lon\n",
    "\n",
    "data[\"hs_directory\"][\"lon\"] = data[\"hs_directory\"][\"Location 1\"].apply(find_lon)\n",
    "\n",
    "data[\"hs_directory\"][\"lat\"] = pd.to_numeric(data[\"hs_directory\"][\"lat\"], errors = \"coerce\")\n",
    "data[\"hs_directory\"][\"lon\"] = pd.to_numeric(data[\"hs_directory\"][\"lon\"], errors = \"coerce\")\n",
    "\n",
    "data[\"hs_directory\"][\"DBN\"] = data[\"hs_directory\"][\"dbn\"]\n",
    "\n",
    "print(data[\"hs_directory\"].head())"
   ]
  },
  {
   "cell_type": "markdown",
   "metadata": {},
   "source": [
    "### Making sure DBN is unique in each data set\n",
    "\n",
    "After all datasets now have a DBN column, we need to condense these data sets so that each value in the DBN column is unique. If not, we'll run issues when it comes to combine data sets. While cleaning these data sets above, we notice that SAT_results has clean DBN with each DBN represents a unique value, but it is not the case for other data sets. The first data set we will investigate is class_size. \n",
    "\n",
    "#### Class_size data set"
   ]
  },
  {
   "cell_type": "code",
   "execution_count": 17,
   "metadata": {},
   "outputs": [
    {
     "name": "stdout",
     "output_type": "stream",
     "text": [
      "   CSD BOROUGH SCHOOL CODE                SCHOOL NAME GRADE  PROGRAM TYPE  \\\n",
      "0    1       M        M015  P.S. 015 Roberto Clemente     0K       GEN ED   \n",
      "1    1       M        M015  P.S. 015 Roberto Clemente     0K          CTT   \n",
      "2    1       M        M015  P.S. 015 Roberto Clemente     01       GEN ED   \n",
      "3    1       M        M015  P.S. 015 Roberto Clemente     01          CTT   \n",
      "4    1       M        M015  P.S. 015 Roberto Clemente     02       GEN ED   \n",
      "\n",
      "  CORE SUBJECT (MS CORE and 9-12 ONLY) CORE COURSE (MS CORE and 9-12 ONLY)  \\\n",
      "0                                    -                                   -   \n",
      "1                                    -                                   -   \n",
      "2                                    -                                   -   \n",
      "3                                    -                                   -   \n",
      "4                                    -                                   -   \n",
      "\n",
      "  SERVICE CATEGORY(K-9* ONLY)  NUMBER OF STUDENTS / SEATS FILLED  \\\n",
      "0                           -                               19.0   \n",
      "1                           -                               21.0   \n",
      "2                           -                               17.0   \n",
      "3                           -                               17.0   \n",
      "4                           -                               15.0   \n",
      "\n",
      "   NUMBER OF SECTIONS  AVERAGE CLASS SIZE  SIZE OF SMALLEST CLASS  \\\n",
      "0                 1.0                19.0                    19.0   \n",
      "1                 1.0                21.0                    21.0   \n",
      "2                 1.0                17.0                    17.0   \n",
      "3                 1.0                17.0                    17.0   \n",
      "4                 1.0                15.0                    15.0   \n",
      "\n",
      "   SIZE OF LARGEST CLASS DATA SOURCE  SCHOOLWIDE PUPIL-TEACHER RATIO  \\\n",
      "0                   19.0         ATS                             NaN   \n",
      "1                   21.0         ATS                             NaN   \n",
      "2                   17.0         ATS                             NaN   \n",
      "3                   17.0         ATS                             NaN   \n",
      "4                   15.0         ATS                             NaN   \n",
      "\n",
      "  padded_csd     DBN  \n",
      "0         01  01M015  \n",
      "1         01  01M015  \n",
      "2         01  01M015  \n",
      "3         01  01M015  \n",
      "4         01  01M015  \n"
     ]
    }
   ],
   "source": [
    "print(data[\"class_size\"].head())"
   ]
  },
  {
   "cell_type": "markdown",
   "metadata": {},
   "source": [
    "As can be seen above, the first few rows all pertain to the same school, which is why the DBN appears more than once. It looks like that each school has multiple values for some columns such as \"GRADE\", \"PRGORAM TYPE\" and \"AVERAGE CLASS SIZE\". \n",
    "\n",
    "If we look at the unique values for \"GRADE\" column, we get the following:"
   ]
  },
  {
   "cell_type": "code",
   "execution_count": 18,
   "metadata": {},
   "outputs": [
    {
     "data": {
      "text/plain": [
       "['0K',\n",
       " '01',\n",
       " '02',\n",
       " '03',\n",
       " '04',\n",
       " '05',\n",
       " '0K-09',\n",
       " nan,\n",
       " '06',\n",
       " '07',\n",
       " '08',\n",
       " 'MS Core',\n",
       " '09-12',\n",
       " '09']"
      ]
     },
     "execution_count": 18,
     "metadata": {},
     "output_type": "execute_result"
    }
   ],
   "source": [
    "list(data['class_size'][\"GRADE \"].unique())"
   ]
  },
  {
   "cell_type": "markdown",
   "metadata": {},
   "source": [
    "Since our target group is only high school students, we only concern with grade 9 to 12. That being said, we only choose '09-12' value in 'GRADE' column. \n",
    "\n",
    "If we look at unique values for \"PROGRAM TYPE\", we get the following:"
   ]
  },
  {
   "cell_type": "code",
   "execution_count": 19,
   "metadata": {},
   "outputs": [
    {
     "data": {
      "text/plain": [
       "['GEN ED', 'CTT', 'SPEC ED', nan, 'G&T']"
      ]
     },
     "execution_count": 19,
     "metadata": {},
     "output_type": "execute_result"
    }
   ],
   "source": [
    "list(data[\"class_size\"][\"PROGRAM TYPE\"].unique())"
   ]
  },
  {
   "cell_type": "markdown",
   "metadata": {},
   "source": [
    "Each school can have multiple program types. Because \"GEN ED\" is the largest category by far, let's only select rows where \"PROGRAM TYPE\" is \"GEN ED\"."
   ]
  },
  {
   "cell_type": "code",
   "execution_count": 20,
   "metadata": {},
   "outputs": [
    {
     "name": "stdout",
     "output_type": "stream",
     "text": [
      "     CSD BOROUGH SCHOOL CODE                                    SCHOOL NAME  \\\n",
      "225    1       M        M292  Henry Street School for International Studies   \n",
      "226    1       M        M292  Henry Street School for International Studies   \n",
      "227    1       M        M292  Henry Street School for International Studies   \n",
      "228    1       M        M292  Henry Street School for International Studies   \n",
      "229    1       M        M292  Henry Street School for International Studies   \n",
      "\n",
      "    GRADE  PROGRAM TYPE CORE SUBJECT (MS CORE and 9-12 ONLY)  \\\n",
      "225  09-12       GEN ED                              ENGLISH   \n",
      "226  09-12       GEN ED                              ENGLISH   \n",
      "227  09-12       GEN ED                              ENGLISH   \n",
      "228  09-12       GEN ED                              ENGLISH   \n",
      "229  09-12       GEN ED                                 MATH   \n",
      "\n",
      "    CORE COURSE (MS CORE and 9-12 ONLY) SERVICE CATEGORY(K-9* ONLY)  \\\n",
      "225                           English 9                           -   \n",
      "226                          English 10                           -   \n",
      "227                          English 11                           -   \n",
      "228                          English 12                           -   \n",
      "229                  Integrated Algebra                           -   \n",
      "\n",
      "     NUMBER OF STUDENTS / SEATS FILLED  NUMBER OF SECTIONS  \\\n",
      "225                               63.0                 3.0   \n",
      "226                               79.0                 3.0   \n",
      "227                               38.0                 2.0   \n",
      "228                               69.0                 3.0   \n",
      "229                               53.0                 3.0   \n",
      "\n",
      "     AVERAGE CLASS SIZE  SIZE OF SMALLEST CLASS  SIZE OF LARGEST CLASS  \\\n",
      "225                21.0                    19.0                   25.0   \n",
      "226                26.3                    24.0                   31.0   \n",
      "227                19.0                    16.0                   22.0   \n",
      "228                23.0                    13.0                   30.0   \n",
      "229                17.7                    16.0                   21.0   \n",
      "\n",
      "    DATA SOURCE  SCHOOLWIDE PUPIL-TEACHER RATIO padded_csd     DBN  \n",
      "225       STARS                             NaN         01  01M292  \n",
      "226       STARS                             NaN         01  01M292  \n",
      "227       STARS                             NaN         01  01M292  \n",
      "228       STARS                             NaN         01  01M292  \n",
      "229       STARS                             NaN         01  01M292  \n"
     ]
    }
   ],
   "source": [
    "class_size = data[\"class_size\"]\n",
    "\n",
    "class_size= class_size[class_size[\"GRADE \"] == \"09-12\"]\n",
    "\n",
    "class_size= class_size[class_size[\"PROGRAM TYPE\"] == \"GEN ED\"]\n",
    "\n",
    "print(class_size.head())"
   ]
  },
  {
   "cell_type": "markdown",
   "metadata": {},
   "source": [
    "After filtering 2 columns above, we can still see that \"DBN\" is not still completely unique. This is due to \"CORE COURSE(MS CORE and 9-12 only)\" and \"CORE SUBJECT (MS CORE and 9-12 ONLY) columns. Let's see unique values for each column. "
   ]
  },
  {
   "cell_type": "code",
   "execution_count": 21,
   "metadata": {},
   "outputs": [
    {
     "data": {
      "text/plain": [
       "['ENGLISH', 'MATH', 'SCIENCE', 'SOCIAL STUDIES']"
      ]
     },
     "execution_count": 21,
     "metadata": {},
     "output_type": "execute_result"
    }
   ],
   "source": [
    "list(class_size[\"CORE SUBJECT (MS CORE and 9-12 ONLY)\"].unique())"
   ]
  },
  {
   "cell_type": "code",
   "execution_count": 22,
   "metadata": {},
   "outputs": [
    {
     "data": {
      "text/plain": [
       "['English 9',\n",
       " 'English 10',\n",
       " 'English 11',\n",
       " 'English 12',\n",
       " 'Integrated Algebra',\n",
       " 'Geometry',\n",
       " 'Other Math',\n",
       " 'Earth Science',\n",
       " 'Living Environment',\n",
       " 'Chemistry',\n",
       " 'Physics',\n",
       " 'Other Science',\n",
       " 'Global History & Geography',\n",
       " 'US History & Government',\n",
       " 'MS English Core',\n",
       " 'Other English',\n",
       " 'Trigonometry',\n",
       " 'Participation in Government',\n",
       " 'Math A',\n",
       " 'Economics',\n",
       " 'Other Social Studies',\n",
       " 'Math B']"
      ]
     },
     "execution_count": 22,
     "metadata": {},
     "output_type": "execute_result"
    }
   ],
   "source": [
    "list(class_size[\"CORE COURSE (MS CORE and 9-12 ONLY)\"].unique())"
   ]
  },
  {
   "cell_type": "markdown",
   "metadata": {},
   "source": [
    "It seems that column named Core Subject include certain field of subjects, while column named Core Course contain specific subjects. What we can do is to take the average across all of the classes a school offers. This will give us unique \"DBN\" values, while also incorporating as much data as possible into the average. "
   ]
  },
  {
   "cell_type": "code",
   "execution_count": 23,
   "metadata": {},
   "outputs": [
    {
     "name": "stdout",
     "output_type": "stream",
     "text": [
      "      DBN  CSD  NUMBER OF STUDENTS / SEATS FILLED  NUMBER OF SECTIONS  \\\n",
      "0  01M292    1                            88.0000            4.000000   \n",
      "1  01M332    1                            46.0000            2.000000   \n",
      "2  01M378    1                            33.0000            1.000000   \n",
      "3  01M448    1                           105.6875            4.750000   \n",
      "4  01M450    1                            57.6000            2.733333   \n",
      "\n",
      "   AVERAGE CLASS SIZE  SIZE OF SMALLEST CLASS  SIZE OF LARGEST CLASS  \\\n",
      "0           22.564286                   18.50              26.571429   \n",
      "1           22.000000                   21.00              23.500000   \n",
      "2           33.000000                   33.00              33.000000   \n",
      "3           22.231250                   18.25              27.062500   \n",
      "4           21.200000                   19.40              22.866667   \n",
      "\n",
      "   SCHOOLWIDE PUPIL-TEACHER RATIO  \n",
      "0                             NaN  \n",
      "1                             NaN  \n",
      "2                             NaN  \n",
      "3                             NaN  \n",
      "4                             NaN  \n"
     ]
    }
   ],
   "source": [
    "# find the average values for each DBN\n",
    "class_size = class_size.groupby(\"DBN\").agg(numpy.mean)\n",
    "\n",
    "# after that, DBN column will become the index, and will no longer appear as a column in the data itself\n",
    "# reset the index to a list of integers and make DBN a column again\n",
    "class_size.reset_index(inplace=True)\n",
    "\n",
    "# assign the class_size back to class_size key of data dictionary\n",
    "data[\"class_size\"] = class_size\n",
    "\n",
    "print(data[\"class_size\"].head())"
   ]
  },
  {
   "cell_type": "markdown",
   "metadata": {},
   "source": [
    "Now that we have finished considering class_size, let's condense demographics data sets.\n",
    "\n",
    "#### Demographics data set"
   ]
  },
  {
   "cell_type": "code",
   "execution_count": 24,
   "metadata": {},
   "outputs": [
    {
     "name": "stdout",
     "output_type": "stream",
     "text": [
      "      DBN                       Name  schoolyear fl_percent  frl_percent  \\\n",
      "0  01M015  P.S. 015 ROBERTO CLEMENTE    20052006       89.4          NaN   \n",
      "1  01M015  P.S. 015 ROBERTO CLEMENTE    20062007       89.4          NaN   \n",
      "2  01M015  P.S. 015 ROBERTO CLEMENTE    20072008       89.4          NaN   \n",
      "3  01M015  P.S. 015 ROBERTO CLEMENTE    20082009       89.4          NaN   \n",
      "4  01M015  P.S. 015 ROBERTO CLEMENTE    20092010                    96.5   \n",
      "\n",
      "   total_enrollment prek   k grade1 grade2  ... black_num black_per  \\\n",
      "0               281   15  36     40     33  ...        74      26.3   \n",
      "1               243   15  29     39     38  ...        68      28.0   \n",
      "2               261   18  43     39     36  ...        77      29.5   \n",
      "3               252   17  37     44     32  ...        75      29.8   \n",
      "4               208   16  40     28     32  ...        67      32.2   \n",
      "\n",
      "  hispanic_num hispanic_per white_num white_per male_num male_per female_num  \\\n",
      "0          189         67.3         5       1.8    158.0     56.2      123.0   \n",
      "1          153         63.0         4       1.6    140.0     57.6      103.0   \n",
      "2          157         60.2         7       2.7    143.0     54.8      118.0   \n",
      "3          149         59.1         7       2.8    149.0     59.1      103.0   \n",
      "4          118         56.7         6       2.9    124.0     59.6       84.0   \n",
      "\n",
      "  female_per  \n",
      "0       43.8  \n",
      "1       42.4  \n",
      "2       45.2  \n",
      "3       40.9  \n",
      "4       40.4  \n",
      "\n",
      "[5 rows x 38 columns]\n"
     ]
    }
   ],
   "source": [
    "print(data[\"demographics\"].head())"
   ]
  },
  {
   "cell_type": "markdown",
   "metadata": {},
   "source": [
    "In this case, the only column that prevents DBN from being unique is the \"schoolyear\" column. We only select rows where \"schoolyear\" is 20112012. This will give us the data we need for 2012, which is the year of data we are investigating and match our SAT resukts data."
   ]
  },
  {
   "cell_type": "code",
   "execution_count": 25,
   "metadata": {},
   "outputs": [
    {
     "name": "stdout",
     "output_type": "stream",
     "text": [
      "       DBN                                              Name  schoolyear  \\\n",
      "6   01M015  P.S. 015 ROBERTO CLEMENTE                           20112012   \n",
      "13  01M019  P.S. 019 ASHER LEVY                                 20112012   \n",
      "20  01M020  PS 020 ANNA SILVER                                  20112012   \n",
      "27  01M034  PS 034 FRANKLIN D ROOSEVELT                         20112012   \n",
      "35  01M063  PS 063 WILLIAM MCKINLEY                             20112012   \n",
      "\n",
      "   fl_percent  frl_percent  total_enrollment prek    k grade1 grade2  ...  \\\n",
      "6         NaN         89.4               189   13   31     35     28  ...   \n",
      "13        NaN         61.5               328   32   46     52     54  ...   \n",
      "20        NaN         92.5               626   52  102    121     87  ...   \n",
      "27        NaN         99.7               401   14   34     38     36  ...   \n",
      "35        NaN         78.9               176   18   20     30     21  ...   \n",
      "\n",
      "   black_num black_per hispanic_num hispanic_per white_num white_per male_num  \\\n",
      "6         63      33.3          109         57.7         4       2.1     97.0   \n",
      "13        81      24.7          158         48.2        28       8.5    147.0   \n",
      "20        55       8.8          357         57.0        16       2.6    330.0   \n",
      "27        90      22.4          275         68.6         8       2.0    204.0   \n",
      "35        41      23.3          110         62.5        15       8.5     97.0   \n",
      "\n",
      "   male_per female_num female_per  \n",
      "6      51.3       92.0       48.7  \n",
      "13     44.8      181.0       55.2  \n",
      "20     52.7      296.0       47.3  \n",
      "27     50.9      197.0       49.1  \n",
      "35     55.1       79.0       44.9  \n",
      "\n",
      "[5 rows x 38 columns]\n"
     ]
    }
   ],
   "source": [
    "data[\"demographics\"] = data[\"demographics\"][data[\"demographics\"][\"schoolyear\"] == 20112012]\n",
    "\n",
    "print(data[\"demographics\"].head())"
   ]
  },
  {
   "cell_type": "markdown",
   "metadata": {},
   "source": [
    "#### Graduation data set"
   ]
  },
  {
   "cell_type": "code",
   "execution_count": 26,
   "metadata": {},
   "outputs": [
    {
     "name": "stdout",
     "output_type": "stream",
     "text": [
      "    Demographic     DBN                            School Name    Cohort  \\\n",
      "0  Total Cohort  01M292  HENRY STREET SCHOOL FOR INTERNATIONAL      2003   \n",
      "1  Total Cohort  01M292  HENRY STREET SCHOOL FOR INTERNATIONAL      2004   \n",
      "2  Total Cohort  01M292  HENRY STREET SCHOOL FOR INTERNATIONAL      2005   \n",
      "3  Total Cohort  01M292  HENRY STREET SCHOOL FOR INTERNATIONAL      2006   \n",
      "4  Total Cohort  01M292  HENRY STREET SCHOOL FOR INTERNATIONAL  2006 Aug   \n",
      "\n",
      "   Total Cohort Total Grads - n  Total Grads - % of cohort Total Regents - n  \\\n",
      "0             5               s                        NaN                 s   \n",
      "1            55              37                       67.3                17   \n",
      "2            64              43                       67.2                27   \n",
      "3            78              43                       55.1                36   \n",
      "4            78              44                       56.4                37   \n",
      "\n",
      "   Total Regents - % of cohort  Total Regents - % of grads  ...  \\\n",
      "0                          NaN                         NaN  ...   \n",
      "1                         30.9                        45.9  ...   \n",
      "2                         42.2                        62.8  ...   \n",
      "3                         46.2                        83.7  ...   \n",
      "4                         47.4                        84.1  ...   \n",
      "\n",
      "  Regents w/o Advanced - n  Regents w/o Advanced - % of cohort  \\\n",
      "0                        s                                 NaN   \n",
      "1                       17                                30.9   \n",
      "2                       27                                42.2   \n",
      "3                       36                                46.2   \n",
      "4                       37                                47.4   \n",
      "\n",
      "   Regents w/o Advanced - % of grads Local - n  Local - % of cohort  \\\n",
      "0                                NaN         s                  NaN   \n",
      "1                               45.9        20                 36.4   \n",
      "2                               62.8        16                 25.0   \n",
      "3                               83.7         7                  9.0   \n",
      "4                               84.1         7                  9.0   \n",
      "\n",
      "   Local - % of grads Still Enrolled - n  Still Enrolled - % of cohort  \\\n",
      "0                 NaN                  s                           NaN   \n",
      "1                54.1                 15                          27.3   \n",
      "2                37.2                  9                          14.1   \n",
      "3                16.3                 16                          20.5   \n",
      "4                15.9                 15                          19.2   \n",
      "\n",
      "   Dropped Out - n Dropped Out - % of cohort  \n",
      "0                s                       NaN  \n",
      "1                3                       5.5  \n",
      "2                9                      14.1  \n",
      "3               11                      14.1  \n",
      "4               11                      14.1  \n",
      "\n",
      "[5 rows x 23 columns]\n"
     ]
    }
   ],
   "source": [
    "print(data[\"graduation\"].head())"
   ]
  },
  {
   "cell_type": "markdown",
   "metadata": {},
   "source": [
    "For this data set, the \"Demographic\" and \"Cohort\" columns are what prevent \"DBN\" from being unique in the graduation data. A \"cohort\" appears to refer to the year the data represents, and the \"Demographics\" appears to refer to a specific demographic group. In this case, we want to pick data from most recent \"Cohort\" available, which is 2006. We also want data from full cohort, so we'll only pick rows where \"Demographic\" is \"Total Cohort\". "
   ]
  },
  {
   "cell_type": "code",
   "execution_count": 27,
   "metadata": {},
   "outputs": [
    {
     "name": "stdout",
     "output_type": "stream",
     "text": [
      "     Demographic     DBN                            School Name Cohort  \\\n",
      "3   Total Cohort  01M292  HENRY STREET SCHOOL FOR INTERNATIONAL   2006   \n",
      "10  Total Cohort  01M448    UNIVERSITY NEIGHBORHOOD HIGH SCHOOL   2006   \n",
      "17  Total Cohort  01M450             EAST SIDE COMMUNITY SCHOOL   2006   \n",
      "24  Total Cohort  01M509                MARTA VALLE HIGH SCHOOL   2006   \n",
      "31  Total Cohort  01M515  LOWER EAST SIDE PREPARATORY HIGH SCHO   2006   \n",
      "\n",
      "    Total Cohort Total Grads - n  Total Grads - % of cohort Total Regents - n  \\\n",
      "3             78              43                       55.1                36   \n",
      "10           124              53                       42.7                42   \n",
      "17            90              70                       77.8                67   \n",
      "24            84              47                       56.0                40   \n",
      "31           193             105                       54.4                91   \n",
      "\n",
      "    Total Regents - % of cohort  Total Regents - % of grads  ...  \\\n",
      "3                          46.2                        83.7  ...   \n",
      "10                         33.9                        79.2  ...   \n",
      "17                         74.4                        95.7  ...   \n",
      "24                         47.6                        85.1  ...   \n",
      "31                         47.2                        86.7  ...   \n",
      "\n",
      "   Regents w/o Advanced - n  Regents w/o Advanced - % of cohort  \\\n",
      "3                        36                                46.2   \n",
      "10                       34                                27.4   \n",
      "17                       67                                74.4   \n",
      "24                       23                                27.4   \n",
      "31                       22                                11.4   \n",
      "\n",
      "    Regents w/o Advanced - % of grads Local - n  Local - % of cohort  \\\n",
      "3                                83.7         7                  9.0   \n",
      "10                               64.2        11                  8.9   \n",
      "17                               95.7         3                  3.3   \n",
      "24                               48.9         7                  8.3   \n",
      "31                               21.0        14                  7.3   \n",
      "\n",
      "    Local - % of grads Still Enrolled - n  Still Enrolled - % of cohort  \\\n",
      "3                 16.3                 16                          20.5   \n",
      "10                20.8                 46                          37.1   \n",
      "17                 4.3                 15                          16.7   \n",
      "24                14.9                 25                          29.8   \n",
      "31                13.3                 53                          27.5   \n",
      "\n",
      "    Dropped Out - n Dropped Out - % of cohort  \n",
      "3                11                      14.1  \n",
      "10               20                      16.1  \n",
      "17                5                       5.6  \n",
      "24                5                       6.0  \n",
      "31               35                      18.1  \n",
      "\n",
      "[5 rows x 23 columns]\n"
     ]
    }
   ],
   "source": [
    "data[\"graduation\"] = data[\"graduation\"][data[\"graduation\"][\"Cohort\"] == \"2006\"]\n",
    "data[\"graduation\"] = data[\"graduation\"][data[\"graduation\"][\"Demographic\"] == \"Total Cohort\"]\n",
    "print(data[\"graduation\"].head())"
   ]
  },
  {
   "cell_type": "markdown",
   "metadata": {},
   "source": [
    "### Merge strategy\n",
    "\n",
    "Before we merge our data, it is very critical to decide on the merge strategy we want to use. We'll be using the \"DBN\" column to identify matching rows across data sets. In other words, the values in that column will help us know which row from the first data set to combine wuth which row in the second data set. There might be \"DBN\" values taht exist in one data set but not in another. This is partly because the data is from different years. Each data set also has inconsistencies in terms of how it was gathered. Human errors could also play a role here. Hence, we may not find exact matches for the \"DBN\" values in SAT_results data set in all of other data sets, and other data sets may habe \"DBN\" values that do not exist in sat_results.\n",
    "\n",
    "The strategy is that we will merge 2 data sets at a time. We'll continue combining data sets in this way until we've merged all of them. Atferwards, we'll have roughly the same number of rows, but each row will have columns from all of the data sets.\n",
    "\n",
    "We'll have 3 opstions: inner merge (only combine rows where the same DBN exists in both data sets); left merge (only use \"DBN\" values from the dataframe on the \"left\" of the merge; right merge (only use \"DBN\" values from the dataframe on the \"right\" of the merge; outer merge (take any \"DBN\" values from either data frame). Each merge has its advantages. Depending on the strategy we choose, we may preserve rows at the expense of having more missing column data, or minimize missing data at the expense of having fewer rows. Choosing a merge strategy is an important decision; it's worth thinking about your data carefully, and what trade-offs you are willing to make. \n",
    "\n",
    "This means that we may need to use different merge strategies with different data sets. Some of data sets have a lot of missing \"DBN\" values. This makes a left join more appropriate, because we don't want to lose too many rows when we merge. If we did an inner join, we would lose data for many high schools. Some data sets have \"DBN\" values that are almost identical to those in SAT_results. Those data sets also have information we need to keep. Most of our analysis would be impossible if a significant number of rows was missing from \"demographics\", for instance. Therefore, we'll do an inner join to avoid missing data in these columns. \n",
    "\n",
    "Both the ap_2010 and graduation data sets have many missing DBN values, so we'll use a left join when we merge sat_results data set to them. As we are using a left join, our final dataframe will have all of DBN values in sat_results dataframe.\n",
    "\n",
    "Let's jump right in to decide which strategy for which data sets!"
   ]
  },
  {
   "cell_type": "code",
   "execution_count": 28,
   "metadata": {},
   "outputs": [
    {
     "name": "stdout",
     "output_type": "stream",
     "text": [
      "      DBN                                    SCHOOL NAME  \\\n",
      "0  01M292  HENRY STREET SCHOOL FOR INTERNATIONAL STUDIES   \n",
      "1  01M448            UNIVERSITY NEIGHBORHOOD HIGH SCHOOL   \n",
      "2  01M450                     EAST SIDE COMMUNITY SCHOOL   \n",
      "3  01M458                      FORSYTH SATELLITE ACADEMY   \n",
      "4  01M509                        MARTA VALLE HIGH SCHOOL   \n",
      "\n",
      "  Num of SAT Test Takers  SAT Critical Reading Avg. Score  \\\n",
      "0                     29                            355.0   \n",
      "1                     91                            383.0   \n",
      "2                     70                            377.0   \n",
      "3                      7                            414.0   \n",
      "4                     44                            390.0   \n",
      "\n",
      "   SAT Math Avg. Score  SAT Writing Avg. Score  sat_score  \\\n",
      "0                404.0                   363.0     1122.0   \n",
      "1                423.0                   366.0     1172.0   \n",
      "2                402.0                   370.0     1149.0   \n",
      "3                401.0                   359.0     1174.0   \n",
      "4                433.0                   384.0     1207.0   \n",
      "\n",
      "                     SchoolName  AP Test Takers   Total Exams Taken  ...  \\\n",
      "0                           NaN              NaN                NaN  ...   \n",
      "1  UNIVERSITY NEIGHBORHOOD H.S.             39.0               49.0  ...   \n",
      "2        EAST SIDE COMMUNITY HS             19.0               21.0  ...   \n",
      "3                           NaN              NaN                NaN  ...   \n",
      "4                           NaN              NaN                NaN  ...   \n",
      "\n",
      "   Regents w/o Advanced - n Regents w/o Advanced - % of cohort  \\\n",
      "0                        36                               46.2   \n",
      "1                        34                               27.4   \n",
      "2                        67                               74.4   \n",
      "3                       NaN                                NaN   \n",
      "4                        23                               27.4   \n",
      "\n",
      "  Regents w/o Advanced - % of grads Local - n  Local - % of cohort  \\\n",
      "0                              83.7         7                  9.0   \n",
      "1                              64.2        11                  8.9   \n",
      "2                              95.7         3                  3.3   \n",
      "3                               NaN       NaN                  NaN   \n",
      "4                              48.9         7                  8.3   \n",
      "\n",
      "  Local - % of grads  Still Enrolled - n Still Enrolled - % of cohort  \\\n",
      "0               16.3                  16                         20.5   \n",
      "1               20.8                  46                         37.1   \n",
      "2                4.3                  15                         16.7   \n",
      "3                NaN                 NaN                          NaN   \n",
      "4               14.9                  25                         29.8   \n",
      "\n",
      "   Dropped Out - n  Dropped Out - % of cohort  \n",
      "0               11                       14.1  \n",
      "1               20                       16.1  \n",
      "2                5                        5.6  \n",
      "3              NaN                        NaN  \n",
      "4                5                        6.0  \n",
      "\n",
      "[5 rows x 33 columns]\n",
      "(479, 33)\n"
     ]
    }
   ],
   "source": [
    "combined = data[\"SAT_results\"]\n",
    "\n",
    "combined = combined.merge(data[\"ap_2010\"], on=\"DBN\", how=\"left\")\n",
    "combined = combined.merge(data[\"graduation\"], on = \"DBN\", how=\"left\")\n",
    "\n",
    "print(combined.head())\n",
    "print(combined.shape)"
   ]
  },
  {
   "cell_type": "markdown",
   "metadata": {},
   "source": [
    "Seems good! We still have to merge data sets: hs_directory, survey, class_size, demographics into SAT_results. Since these data sets contain information that is more valubale to our analysis and also have fewer missing \"DBN\" values, we'll use the inner join type. "
   ]
  },
  {
   "cell_type": "code",
   "execution_count": 29,
   "metadata": {},
   "outputs": [
    {
     "name": "stdout",
     "output_type": "stream",
     "text": [
      "      DBN                                        SCHOOL NAME  \\\n",
      "0  01M292      HENRY STREET SCHOOL FOR INTERNATIONAL STUDIES   \n",
      "1  01M448                UNIVERSITY NEIGHBORHOOD HIGH SCHOOL   \n",
      "2  01M450                         EAST SIDE COMMUNITY SCHOOL   \n",
      "3  01M509                            MARTA VALLE HIGH SCHOOL   \n",
      "4  01M539  NEW EXPLORATIONS INTO SCIENCE, TECHNOLOGY AND ...   \n",
      "\n",
      "  Num of SAT Test Takers  SAT Critical Reading Avg. Score  \\\n",
      "0                     29                            355.0   \n",
      "1                     91                            383.0   \n",
      "2                     70                            377.0   \n",
      "3                     44                            390.0   \n",
      "4                    159                            522.0   \n",
      "\n",
      "   SAT Math Avg. Score  SAT Writing Avg. Score  sat_score  \\\n",
      "0                404.0                   363.0     1122.0   \n",
      "1                423.0                   366.0     1172.0   \n",
      "2                402.0                   370.0     1149.0   \n",
      "3                433.0                   384.0     1207.0   \n",
      "4                574.0                   525.0     1621.0   \n",
      "\n",
      "                       SchoolName  AP Test Takers   Total Exams Taken  ...  \\\n",
      "0                             NaN              NaN                NaN  ...   \n",
      "1    UNIVERSITY NEIGHBORHOOD H.S.             39.0               49.0  ...   \n",
      "2          EAST SIDE COMMUNITY HS             19.0               21.0  ...   \n",
      "3                             NaN              NaN                NaN  ...   \n",
      "4  NEW EXPLORATIONS SCI,TECH,MATH            255.0              377.0  ...   \n",
      "\n",
      "   priority10                                         Location 1  \\\n",
      "0         NaN  220 Henry Street\\nNew York, NY 10002\\n(40.7137...   \n",
      "1         NaN  200 Monroe Street\\nNew York, NY 10002\\n(40.712...   \n",
      "2         NaN  420 East 12 Street\\nNew York, NY 10009\\n(40.72...   \n",
      "3         NaN  145 Stanton Street\\nNew York, NY 10002\\n(40.72...   \n",
      "4         NaN  111 Columbia Street\\nNew York, NY 10002\\n(40.7...   \n",
      "\n",
      "  Community Board Council District  Census Tract        BIN           BBL  \\\n",
      "0             3.0              1.0         201.0  1003223.0  1.002690e+09   \n",
      "1             3.0              1.0         202.0  1003214.0  1.002590e+09   \n",
      "2             3.0              2.0          34.0  1005974.0  1.004390e+09   \n",
      "3             3.0              1.0        3001.0  1004323.0  1.003540e+09   \n",
      "4             3.0              2.0        2201.0  1004070.0  1.003350e+09   \n",
      "\n",
      "                                                 NTA        lat        lon  \n",
      "0  Lower East Side                               ...  40.713764 -73.985260  \n",
      "1  Lower East Side                               ...  40.712332 -73.984797  \n",
      "2  East Village                                  ...  40.729783 -73.983041  \n",
      "3  Chinatown                                     ...  40.720569 -73.985673  \n",
      "4  Lower East Side                               ...  40.718725 -73.979426  \n",
      "\n",
      "[5 rows x 165 columns]\n",
      "(363, 165)\n"
     ]
    }
   ],
   "source": [
    "to_merged = [\"class_size\", \"demographics\", \"survey\", \"hs_directory\"]\n",
    "\n",
    "for d in to_merged:\n",
    "    combined = combined.merge(data[d], on=\"DBN\", how=\"inner\")\n",
    "\n",
    "print(combined.head())\n",
    "print(combined.shape)"
   ]
  },
  {
   "cell_type": "markdown",
   "metadata": {},
   "source": [
    "We noticed that the inner joins resulted in 116 fewer rows in SAT_results. This is becuase pandas could not find the DBN values that existed in SAT_results in the other data sets. While this is worth investigating, we're currently looking for high-level correlations, so we do'nt really need to dive into which DBN values are missing,\n",
    "\n",
    "Still, we see some null values, and we can try to fill these missing data. There are several approaches to this, but we will just fill in missing values with the overall mean for the column. "
   ]
  },
  {
   "cell_type": "code",
   "execution_count": 30,
   "metadata": {},
   "outputs": [
    {
     "name": "stdout",
     "output_type": "stream",
     "text": [
      "      DBN                                        SCHOOL NAME  \\\n",
      "0  01M292      HENRY STREET SCHOOL FOR INTERNATIONAL STUDIES   \n",
      "1  01M448                UNIVERSITY NEIGHBORHOOD HIGH SCHOOL   \n",
      "2  01M450                         EAST SIDE COMMUNITY SCHOOL   \n",
      "3  01M509                            MARTA VALLE HIGH SCHOOL   \n",
      "4  01M539  NEW EXPLORATIONS INTO SCIENCE, TECHNOLOGY AND ...   \n",
      "\n",
      "  Num of SAT Test Takers  SAT Critical Reading Avg. Score  \\\n",
      "0                     29                            355.0   \n",
      "1                     91                            383.0   \n",
      "2                     70                            377.0   \n",
      "3                     44                            390.0   \n",
      "4                    159                            522.0   \n",
      "\n",
      "   SAT Math Avg. Score  SAT Writing Avg. Score  sat_score  \\\n",
      "0                404.0                   363.0     1122.0   \n",
      "1                423.0                   366.0     1172.0   \n",
      "2                402.0                   370.0     1149.0   \n",
      "3                433.0                   384.0     1207.0   \n",
      "4                574.0                   525.0     1621.0   \n",
      "\n",
      "                       SchoolName  AP Test Takers   Total Exams Taken  ...  \\\n",
      "0                               0       129.028846         197.038462  ...   \n",
      "1    UNIVERSITY NEIGHBORHOOD H.S.        39.000000          49.000000  ...   \n",
      "2          EAST SIDE COMMUNITY HS        19.000000          21.000000  ...   \n",
      "3                               0       129.028846         197.038462  ...   \n",
      "4  NEW EXPLORATIONS SCI,TECH,MATH       255.000000         377.000000  ...   \n",
      "\n",
      "   priority10                                         Location 1  \\\n",
      "0           0  220 Henry Street\\nNew York, NY 10002\\n(40.7137...   \n",
      "1           0  200 Monroe Street\\nNew York, NY 10002\\n(40.712...   \n",
      "2           0  420 East 12 Street\\nNew York, NY 10009\\n(40.72...   \n",
      "3           0  145 Stanton Street\\nNew York, NY 10002\\n(40.72...   \n",
      "4           0  111 Columbia Street\\nNew York, NY 10002\\n(40.7...   \n",
      "\n",
      "  Community Board Council District  Census Tract        BIN           BBL  \\\n",
      "0             3.0              1.0         201.0  1003223.0  1.002690e+09   \n",
      "1             3.0              1.0         202.0  1003214.0  1.002590e+09   \n",
      "2             3.0              2.0          34.0  1005974.0  1.004390e+09   \n",
      "3             3.0              1.0        3001.0  1004323.0  1.003540e+09   \n",
      "4             3.0              2.0        2201.0  1004070.0  1.003350e+09   \n",
      "\n",
      "                                                 NTA        lat        lon  \n",
      "0  Lower East Side                               ...  40.713764 -73.985260  \n",
      "1  Lower East Side                               ...  40.712332 -73.984797  \n",
      "2  East Village                                  ...  40.729783 -73.983041  \n",
      "3  Chinatown                                     ...  40.720569 -73.985673  \n",
      "4  Lower East Side                               ...  40.718725 -73.979426  \n",
      "\n",
      "[5 rows x 165 columns]\n"
     ]
    }
   ],
   "source": [
    "# calculate the means of all of the columns in combined\n",
    "means = combined.mean()\n",
    "\n",
    "# fill in any missing values in combined with means calculated above\n",
    "combined = combined.fillna(means)\n",
    "\n",
    "# fill in any remaining missing values in combined with 0\n",
    "combined = combined.fillna(0)\n",
    "\n",
    "print(combined.head())"
   ]
  },
  {
   "cell_type": "markdown",
   "metadata": {},
   "source": [
    "### Add school districts\n",
    "\n",
    "Mapping the statistics out on a school district level might be an interesting way to analyze them. Adding a column to the data set that specifies the school district will help us accomplish this."
   ]
  },
  {
   "cell_type": "code",
   "execution_count": 31,
   "metadata": {},
   "outputs": [
    {
     "name": "stdout",
     "output_type": "stream",
     "text": [
      "0    01\n",
      "1    01\n",
      "2    01\n",
      "3    01\n",
      "4    01\n",
      "Name: school_dist, dtype: object\n"
     ]
    }
   ],
   "source": [
    "def find_district(string):\n",
    "    return (string[0:2])\n",
    "\n",
    "combined[\"school_dist\"] = combined[\"DBN\"].apply(find_district)\n",
    "\n",
    "print(combined[\"school_dist\"].head())"
   ]
  },
  {
   "cell_type": "markdown",
   "metadata": {},
   "source": [
    "Now we should have a clean data set we can analyze!\n",
    "\n",
    "## Analyzing and Visualizing Data\n",
    "\n",
    "The first thing we'll do is to find correlations between any of the columns and sat_score. The correlations tell us how closely related 2 columns are. We'll be using the r value, also known as Pearson's correlation coefficient, which measures how closely 2 sequemces of numbers are correlated. "
   ]
  },
  {
   "cell_type": "code",
   "execution_count": 32,
   "metadata": {},
   "outputs": [
    {
     "name": "stdout",
     "output_type": "stream",
     "text": [
      "SAT Critical Reading Avg. Score         0.986820\n",
      "SAT Math Avg. Score                     0.972643\n",
      "SAT Writing Avg. Score                  0.987771\n",
      "sat_score                               1.000000\n",
      "AP Test Takers                          0.523140\n",
      "Total Exams Taken                       0.514333\n",
      "Number of Exams with scores 3 4 or 5    0.463245\n",
      "Total Cohort                            0.325144\n",
      "Total Grads - % of cohort               0.584234\n",
      "Total Regents - % of cohort             0.667603\n",
      "Total Regents - % of grads              0.494732\n",
      "Advanced Regents - % of cohort          0.771566\n",
      "Advanced Regents - % of grads           0.739927\n",
      "Regents w/o Advanced - % of cohort     -0.138188\n",
      "Regents w/o Advanced - % of grads      -0.456213\n",
      "Local - % of cohort                    -0.467951\n",
      "Local - % of grads                     -0.494732\n",
      "Still Enrolled - % of cohort           -0.491914\n",
      "Dropped Out - % of cohort              -0.458537\n",
      "CSD                                     0.042948\n",
      "NUMBER OF STUDENTS / SEATS FILLED       0.394626\n",
      "NUMBER OF SECTIONS                      0.362673\n",
      "AVERAGE CLASS SIZE                      0.381014\n",
      "SIZE OF SMALLEST CLASS                  0.249949\n",
      "SIZE OF LARGEST CLASS                   0.314434\n",
      "SCHOOLWIDE PUPIL-TEACHER RATIO               NaN\n",
      "schoolyear                                   NaN\n",
      "fl_percent                                   NaN\n",
      "frl_percent                            -0.722225\n",
      "total_enrollment                        0.367857\n",
      "ell_num                                -0.153778\n",
      "ell_percent                            -0.398750\n",
      "sped_num                                0.034933\n",
      "sped_percent                           -0.448170\n",
      "asian_num                               0.475445\n",
      "asian_per                               0.570730\n",
      "black_num                               0.027979\n",
      "black_per                              -0.284139\n",
      "hispanic_num                            0.025744\n",
      "hispanic_per                           -0.396985\n",
      "white_num                               0.449559\n",
      "white_per                               0.620718\n",
      "male_num                                0.325520\n",
      "male_per                               -0.112062\n",
      "female_num                              0.388631\n",
      "female_per                              0.112108\n",
      "rr_s                                    0.232199\n",
      "rr_t                                   -0.023386\n",
      "rr_p                                    0.047925\n",
      "N_s                                     0.423463\n",
      "N_t                                     0.291463\n",
      "N_p                                     0.421530\n",
      "saf_p_11                                0.122913\n",
      "com_p_11                               -0.115073\n",
      "eng_p_11                                0.020254\n",
      "aca_p_11                                0.035155\n",
      "saf_t_11                                0.313810\n",
      "com_t_11                                0.082419\n",
      "eng_t_11                                0.036906\n",
      "aca_t_11                                0.132348\n",
      "saf_s_11                                0.337639\n",
      "com_s_11                                0.187370\n",
      "eng_s_11                                0.213822\n",
      "aca_s_11                                0.339435\n",
      "saf_tot_11                              0.318753\n",
      "com_tot_11                              0.077310\n",
      "eng_tot_11                              0.100102\n",
      "aca_tot_11                              0.190966\n",
      "grade_span_min                         -0.021315\n",
      "grade_span_max                               NaN\n",
      "expgrade_span_min                            NaN\n",
      "expgrade_span_max                            NaN\n",
      "postcode                               -0.063977\n",
      "total_students                          0.407827\n",
      "number_programs                         0.117012\n",
      "priority08                                   NaN\n",
      "priority09                                   NaN\n",
      "priority10                                   NaN\n",
      "Community Board                        -0.060919\n",
      "Council District                       -0.076151\n",
      "Census Tract                            0.048737\n",
      "BIN                                     0.052232\n",
      "BBL                                     0.044427\n",
      "lat                                    -0.121029\n",
      "lon                                    -0.132222\n"
     ]
    }
   ],
   "source": [
    "correlations = combined.corr() # find all possible correlations in combined\n",
    "\n",
    "correlations = correlations[\"sat_score\"] # only shows correlations for column sat_score\n",
    "\n",
    "print(correlations.to_string())"
   ]
  },
  {
   "cell_type": "markdown",
   "metadata": {},
   "source": [
    "Unsurprisingly, \"SAT Critical Reading Avg. Score\", \"SAT Math Avg. Score\", \"SAT Writing Avg. Score\" and \"sat_score\" are strongly correlated with sat_score. Some other observations include:\n",
    "- total_enrollment has a strong positive correlation with sat_score. This is quite surpeising as we 'd expect smaller schools in terms of size where students receive more attention to have higher scores. However, it looks like the opposite is true- larger school tend to do better on SAT. Other columns that are proxies for enrollment coorelate similarly: \"total_students\", \"N_s\", \"N_p\", \"N_t\", \"AP Test Takers\", \"Total Exams Taken\", \"NUMBER OF STUDENTS / SEATS FILLED\" and \"NUMBER OF SECTIONS\".\n",
    "- Both percentages for females (female_per) and number of females (female_num) at a school correlate positively with SAT score, whereas the percentage of male (male_per) corelates negatively.This could indicate that women do better on SAT than men. \n",
    "- Teacher and student ratings of school safety (saf_t_11 and saf_s_11) correlate with sat_score.\n",
    "- Student ratings of school academic standards (aca_s_11) correlate with sat_score, but this does not hold for ratings from teachers and parents (aca_p_11 and aca_t_11).\n",
    "- There is significant reacial inequality in SAT scores (white_per, asian_per, black_per and hispanic_per).\n",
    "- The percentage of English language learners at the school (ell_percent, frl_percent) has a strong negative correlation with SAT schools. \n",
    "\n",
    "### Exploring Total Enrollments and SAT scores\n",
    "\n",
    "Since total_enrollment seems to have such a strong correlation, let's make a scatterplot of total_enrollment vs sat_score to see any interesting patterns."
   ]
  },
  {
   "cell_type": "code",
   "execution_count": 33,
   "metadata": {},
   "outputs": [
    {
     "data": {
      "image/png": "[encoded data removed]",
      "text/plain": [
       "<Figure size 432x288 with 1 Axes>"
      ]
     },
     "metadata": {
      "needs_background": "light"
     },
     "output_type": "display_data"
    }
   ],
   "source": [
    "combined.plot.scatter(y=\"sat_score\", x=\"total_enrollment\")\n",
    "plt.show()"
   ]
  },
  {
   "cell_type": "markdown",
   "metadata": {},
   "source": [
    "From the graph above, it does not appear that there's an exremely strong correlation between sat_score and total_enrollment. However, there's an interesting cluster of points at the bottom left where total_enrollment and sat_score are both low. This cluster may be what's making the r value so high. It's worth extracting the names of schools in this cluster so we can research them further."
   ]
  },
  {
   "cell_type": "code",
   "execution_count": 34,
   "metadata": {},
   "outputs": [
    {
     "name": "stdout",
     "output_type": "stream",
     "text": [
      "0      HENRY STREET SCHOOL FOR INTERNATIONAL\n",
      "1        UNIVERSITY NEIGHBORHOOD HIGH SCHOOL\n",
      "2                 EAST SIDE COMMUNITY SCHOOL\n",
      "3                    MARTA VALLE HIGH SCHOOL\n",
      "6      47 THE AMERICAN SIGN LANGUAGE AND ENG\n",
      "                       ...                  \n",
      "357     ACADEMY FOR ENVIRONMENTAL LEADERSHIP\n",
      "358    EBC HIGH SCHOOL FOR PUBLIC SERVICE\u0016BU\n",
      "359       BUSHWICK SCHOOL FOR SOCIAL JUSTICE\n",
      "360                ACADEMY OF URBAN PLANNING\n",
      "362    BUSHWICK LEADERS HIGH SCHOOL FOR ACAD\n",
      "Name: School Name, Length: 261, dtype: object\n"
     ]
    }
   ],
   "source": [
    "low_enrollment = combined[combined[\"total_enrollment\"] < 1000]\n",
    "\n",
    "low_enrollment = low_enrollment[low_enrollment[\"sat_score\"] < 1300]\n",
    "\n",
    "print(low_enrollment[\"School Name\"])"
   ]
  },
  {
   "cell_type": "markdown",
   "metadata": {},
   "source": [
    "With a bit of Googling, we come to realize that most of the high schools with low total enrollment and low SAT scores have high percentages of English language learners. This indicates that actually ell_percent that correlates strongly with sat_score, rather than total_enrollment. We can explore this correlation with another plot. "
   ]
  },
  {
   "cell_type": "code",
   "execution_count": 35,
   "metadata": {},
   "outputs": [
    {
     "data": {
      "image/png": "[encoded data removed]",
      "text/plain": [
       "<Figure size 432x288 with 1 Axes>"
      ]
     },
     "metadata": {
      "needs_background": "light"
     },
     "output_type": "display_data"
    }
   ],
   "source": [
    "combined.plot.scatter(x=\"ell_percent\", y=\"sat_score\")\n",
    "plt.show()"
   ]
  },
  {
   "cell_type": "markdown",
   "metadata": {},
   "source": [
    "It looks like ell_percent correlates with sat_score more strongly, because the scatterplot is more linear. However, there is still cluster of schools that have very high ell_percent values and low sat_scores values. This cluster represents the same group of international high schools we explored above. \n",
    "\n",
    "In order to explre the relationship, we'll want to map out ell_percent by school district. This map will show us which areas of city have a lot of English language learners. "
   ]
  },
  {
   "cell_type": "code",
   "execution_count": 36,
   "metadata": {},
   "outputs": [
    {
     "name": "stderr",
     "output_type": "stream",
     "text": [
      "C:\\Users\\Little\\Anaconda3\\lib\\site-packages\\ipykernel_launcher.py:11: MatplotlibDeprecationWarning: \n",
      "The dedent function was deprecated in Matplotlib 3.1 and will be removed in 3.3. Use inspect.cleandoc instead.\n",
      "  # This is added back by InteractiveShellApp.init_path()\n",
      "C:\\Users\\Little\\Anaconda3\\lib\\site-packages\\ipykernel_launcher.py:16: MatplotlibDeprecationWarning: \n",
      "The dedent function was deprecated in Matplotlib 3.1 and will be removed in 3.3. Use inspect.cleandoc instead.\n",
      "  app.launch_new_instance()\n"
     ]
    },
    {
     "data": {
      "image/png": "[encoded data removed]",
      "text/plain": [
       "<Figure size 432x288 with 1 Axes>"
      ]
     },
     "metadata": {},
     "output_type": "display_data"
    }
   ],
   "source": [
    "from mpl_toolkits.basemap import Basemap\n",
    "\n",
    "# create a map that centers on New York City (llcrnrlat, urcrnrlat, llcrnrlon, and urcrnrlon define the corners of the geographic area the map depicts). \n",
    "# draw coastlines and rivers accordingly.\n",
    "m = Basemap(\n",
    "    projection='merc', \n",
    "    llcrnrlat=40.496044, \n",
    "    urcrnrlat=40.915256, \n",
    "    llcrnrlon=-74.255735, \n",
    "    urcrnrlon=-73.700272,\n",
    "    resolution= 'i'\n",
    ")\n",
    "\n",
    "m.drawmapboundary(fill_color='#85A6D9')\n",
    "m.drawcoastlines(color='#6D5F47', linewidth=.4)\n",
    "m.drawrivers(color='#6D5F47', linewidth=.4)\n",
    "\n",
    "# convert lon and lat column of combined to a list\n",
    "longitudes = combined[\"lon\"].tolist()\n",
    "latitudes = combined[\"lat\"].tolist()\n",
    "\n",
    "# draw scatter plot on basemap\n",
    "# (s=20 to increase the size of points in the scatterplot) \n",
    "# (zorder=2 to plot the points on top of the rest of the map)\n",
    "# (latlon=True) to indicate that we're passing in latitude and longitude coordinates, rather than axis coordinates\n",
    "# (c: accepts a variable containing a sequence of numbers and assigns different colors to those numbers, \n",
    "# then shade the points on the plot associated with those numbers accordingly)\n",
    "# (cmap=\"summer\": color map in \"summer\", which results in green points for low numbers and yellow points for high numbers)\n",
    "m.scatter(longitudes, latitudes, \n",
    "          s=20, \n",
    "          zorder=2, \n",
    "          latlon=True, \n",
    "          c=combined[\"ell_percent\"], \n",
    "          cmap=\"summer\")\n",
    "\n",
    "plt.show()"
   ]
  },
  {
   "cell_type": "markdown",
   "metadata": {},
   "source": [
    "This requires a bit of geographic knowledge. We see that school density is highest in Manhattan, and lower in Brooklyn, the Bronx, Queens and Staten Island. However, there are too many schools that makes it hard to interpret the map. Hence, instead of plot ell_percent school-by-school, we can plot ell_percent district-by-district. "
   ]
  },
  {
   "cell_type": "code",
   "execution_count": 37,
   "metadata": {},
   "outputs": [
    {
     "name": "stdout",
     "output_type": "stream",
     "text": [
      "  school_dist  SAT Critical Reading Avg. Score  SAT Math Avg. Score  \\\n",
      "0          01                       441.833333           473.333333   \n",
      "1          02                       426.619092           444.186256   \n",
      "2          03                       428.529851           437.997512   \n",
      "3          04                       402.142857           416.285714   \n",
      "4          05                       427.159915           438.236674   \n",
      "\n",
      "   SAT Writing Avg. Score    sat_score  AP Test Takers   Total Exams Taken  \\\n",
      "0              439.333333  1354.500000       116.681090         173.019231   \n",
      "1              424.832836  1295.638184       128.908454         201.516827   \n",
      "2              426.915672  1293.443035       156.183494         244.522436   \n",
      "3              405.714286  1224.142857       129.016484         183.879121   \n",
      "4              419.666098  1285.062687        85.722527         115.725275   \n",
      "\n",
      "   Number of Exams with scores 3 4 or 5  Total Cohort  \\\n",
      "0                            135.800000     93.500000   \n",
      "1                            157.495833    158.647849   \n",
      "2                            193.087500    183.384409   \n",
      "3                            151.035714    113.857143   \n",
      "4                            142.464286    143.677419   \n",
      "\n",
      "   Total Grads - % of cohort  ...  priority08  priority09  priority10  \\\n",
      "0                  71.333333  ...         0.0         0.0         0.0   \n",
      "1                  75.453574  ...         0.0         0.0         0.0   \n",
      "2                  74.029937  ...         0.0         0.0         0.0   \n",
      "3                  76.257143  ...         0.0         0.0         0.0   \n",
      "4                  75.200881  ...         0.0         0.0         0.0   \n",
      "\n",
      "   Community Board  Council District  Census Tract           BIN  \\\n",
      "0         3.000000          1.500000   1106.833333  1.004144e+06   \n",
      "1         4.204005          2.963296   1132.479744  1.103862e+06   \n",
      "2         7.500000          6.500000    166.666667  1.034931e+06   \n",
      "3        11.000000          8.000000   2637.000000  1.055874e+06   \n",
      "4         9.428571          8.142857   9372.571429  1.063080e+06   \n",
      "\n",
      "            BBL        lat        lon  \n",
      "0  1.003302e+09  40.719022 -73.982377  \n",
      "1  1.070438e+09  40.739699 -73.991386  \n",
      "2  1.012833e+09  40.781574 -73.977370  \n",
      "3  1.016681e+09  40.793449 -73.943215  \n",
      "4  1.019721e+09  40.817077 -73.949251  \n",
      "\n",
      "[5 rows x 86 columns]\n"
     ]
    }
   ],
   "source": [
    "# find the average values of each column for each school district in combined\n",
    "districts = combined.groupby(\"school_dist\").agg(numpy.mean)\n",
    "districts.reset_index(inplace=True)\n",
    "\n",
    "print(districts.head())"
   ]
  },
  {
   "cell_type": "code",
   "execution_count": 38,
   "metadata": {},
   "outputs": [
    {
     "name": "stderr",
     "output_type": "stream",
     "text": [
      "C:\\Users\\Little\\Anaconda3\\lib\\site-packages\\ipykernel_launcher.py:7: MatplotlibDeprecationWarning: \n",
      "The dedent function was deprecated in Matplotlib 3.1 and will be removed in 3.3. Use inspect.cleandoc instead.\n",
      "  import sys\n",
      "C:\\Users\\Little\\Anaconda3\\lib\\site-packages\\ipykernel_launcher.py:12: MatplotlibDeprecationWarning: \n",
      "The dedent function was deprecated in Matplotlib 3.1 and will be removed in 3.3. Use inspect.cleandoc instead.\n",
      "  if sys.path[0] == '':\n"
     ]
    },
    {
     "data": {
      "image/png": "[encoded data removed]",
      "text/plain": [
       "<Figure size 432x288 with 1 Axes>"
      ]
     },
     "metadata": {},
     "output_type": "display_data"
    }
   ],
   "source": [
    "m = Basemap(\n",
    "    projection='merc', \n",
    "    llcrnrlat=40.496044, \n",
    "    urcrnrlat=40.915256, \n",
    "    llcrnrlon=-74.255735, \n",
    "    urcrnrlon=-73.700272,\n",
    "    resolution= 'i'\n",
    ")\n",
    "\n",
    "m.drawmapboundary(fill_color='#85A6D9')\n",
    "m.drawcoastlines(color='#6D5F47', linewidth=.4)\n",
    "m.drawrivers(color='#6D5F47', linewidth=.4)\n",
    "\n",
    "longitudes = districts[\"lon\"].tolist()\n",
    "latitudes = districts[\"lat\"].tolist()\n",
    "\n",
    "m.scatter(longitudes, latitudes, \n",
    "          s=50, \n",
    "          zorder=2, \n",
    "          latlon=True, \n",
    "          c=districts[\"ell_percent\"], \n",
    "          cmap=\"summer\")\n",
    "\n",
    "plt.show()"
   ]
  },
  {
   "cell_type": "markdown",
   "metadata": {},
   "source": [
    "### Exploring Safety and SAT scores\n",
    "\n",
    "As mentioned above, the saf_t_11 and saf_s_11, which measure how teachers and students perceive safety at school, corelated highly with sat_scores. "
   ]
  },
  {
   "cell_type": "code",
   "execution_count": 39,
   "metadata": {},
   "outputs": [
    {
     "data": {
      "text/plain": [
       "<matplotlib.axes._subplots.AxesSubplot at 0x21cb65fb188>"
      ]
     },
     "execution_count": 39,
     "metadata": {},
     "output_type": "execute_result"
    },
    {
     "data": {
      "image/png": "[encoded data removed]",
      "text/plain": [
       "<Figure size 432x288 with 1 Axes>"
      ]
     },
     "metadata": {
      "needs_background": "light"
     },
     "output_type": "display_data"
    }
   ],
   "source": [
    "combined.plot.scatter(\"saf_s_11\", \"sat_score\")"
   ]
  },
  {
   "cell_type": "markdown",
   "metadata": {},
   "source": [
    "There appears to be a correlation between SAT scores and safety, although it is not that strong. It looks like there are a few schools with extremely high SAT scores and high safety scores. There are a few schools with low safety scores and low SAT scores. No schools with safety scores below 6.5 has an average SAT score higher than 1500 or so."
   ]
  },
  {
   "cell_type": "code",
   "execution_count": 40,
   "metadata": {},
   "outputs": [
    {
     "name": "stderr",
     "output_type": "stream",
     "text": [
      "C:\\Users\\Little\\Anaconda3\\lib\\site-packages\\ipykernel_launcher.py:7: MatplotlibDeprecationWarning: \n",
      "The dedent function was deprecated in Matplotlib 3.1 and will be removed in 3.3. Use inspect.cleandoc instead.\n",
      "  import sys\n",
      "C:\\Users\\Little\\Anaconda3\\lib\\site-packages\\ipykernel_launcher.py:12: MatplotlibDeprecationWarning: \n",
      "The dedent function was deprecated in Matplotlib 3.1 and will be removed in 3.3. Use inspect.cleandoc instead.\n",
      "  if sys.path[0] == '':\n"
     ]
    },
    {
     "data": {
      "image/png": "[encoded data removed]",
      "text/plain": [
       "<Figure size 432x288 with 1 Axes>"
      ]
     },
     "metadata": {},
     "output_type": "display_data"
    }
   ],
   "source": [
    "m = Basemap(\n",
    "    projection='merc', \n",
    "    llcrnrlat=40.496044, \n",
    "    urcrnrlat=40.915256, \n",
    "    llcrnrlon=-74.255735, \n",
    "    urcrnrlon=-73.700272,\n",
    "    resolution= 'i'\n",
    ")\n",
    "\n",
    "m.drawmapboundary(fill_color='#85A6D9')\n",
    "m.drawcoastlines(color='#6D5F47', linewidth=.4)\n",
    "m.drawrivers(color='#6D5F47', linewidth=.4)\n",
    "\n",
    "longitudes = districts[\"lon\"].tolist()\n",
    "latitudes = districts[\"lat\"].tolist()\n",
    "\n",
    "m.scatter(longitudes, latitudes, \n",
    "          s=50, \n",
    "          zorder=2, \n",
    "          latlon=True, \n",
    "          c=districts[\"saf_s_11\"], \n",
    "          cmap=\"summer\")\n",
    "\n",
    "plt.show()"
   ]
  },
  {
   "cell_type": "markdown",
   "metadata": {},
   "source": [
    "It looks like upper Manhattan and parts of Queen and the Bronx tend to have higher safety scores, whereas Brooklyn has low safety scores.\n",
    "\n",
    "### Exploring Race and SAT scores"
   ]
  },
  {
   "cell_type": "code",
   "execution_count": 41,
   "metadata": {},
   "outputs": [
    {
     "data": {
      "text/plain": [
       "<matplotlib.axes._subplots.AxesSubplot at 0x21cb66b1208>"
      ]
     },
     "execution_count": 41,
     "metadata": {},
     "output_type": "execute_result"
    },
    {
     "data": {
      "image/png": "[encoded data removed]",
      "text/plain": [
       "<Figure size 432x288 with 1 Axes>"
      ]
     },
     "metadata": {
      "needs_background": "light"
     },
     "output_type": "display_data"
    }
   ],
   "source": [
    "race_fields =[\"asian_per\", \"black_per\", \"hispanic_per\", \"white_per\"]\n",
    "combined.corr()[\"sat_score\"][race_fields].plot.bar()"
   ]
  },
  {
   "cell_type": "markdown",
   "metadata": {},
   "source": [
    "As can be clearly seen from the graph above, Asian and White students' percentages correlate possitively with SAT scores, while it is the oppposite for black and hispanic students. This can be due to a lack of funding for schools in certain areas, which are more likely to have a higher percentage of black or hispanic students."
   ]
  },
  {
   "cell_type": "code",
   "execution_count": 42,
   "metadata": {},
   "outputs": [
    {
     "data": {
      "text/plain": [
       "<matplotlib.axes._subplots.AxesSubplot at 0x21cb65a38c8>"
      ]
     },
     "execution_count": 42,
     "metadata": {},
     "output_type": "execute_result"
    },
    {
     "data": {
      "image/png": "[encoded data removed]",
      "text/plain": [
       "<Figure size 432x288 with 1 Axes>"
      ]
     },
     "metadata": {
      "needs_background": "light"
     },
     "output_type": "display_data"
    }
   ],
   "source": [
    "combined.plot.scatter(\"hispanic_per\", \"sat_score\")"
   ]
  },
  {
   "cell_type": "markdown",
   "metadata": {},
   "source": [
    "We can see a clear linear relationship between hispanic student percentage and SAT scores. We can also see that the majority falls under the spectrum of schools that have more than 90% of hispanic students. Meanwhile, those schools that have highest SAT scores fall under the category of schools have less than 10% hispanic students. "
   ]
  },
  {
   "cell_type": "code",
   "execution_count": 43,
   "metadata": {},
   "outputs": [
    {
     "name": "stdout",
     "output_type": "stream",
     "text": [
      "44                         MANHATTAN BRIDGES HIGH SCHOOL\n",
      "82      WASHINGTON HEIGHTS EXPEDITIONARY LEARNING SCHOOL\n",
      "89     GREGORIO LUPERON HIGH SCHOOL FOR SCIENCE AND M...\n",
      "125                  ACADEMY FOR LANGUAGE AND TECHNOLOGY\n",
      "141                INTERNATIONAL SCHOOL FOR LIBERAL ARTS\n",
      "176     PAN AMERICAN INTERNATIONAL HIGH SCHOOL AT MONROE\n",
      "253                            MULTICULTURAL HIGH SCHOOL\n",
      "286               PAN AMERICAN INTERNATIONAL HIGH SCHOOL\n",
      "Name: SCHOOL NAME, dtype: object\n"
     ]
    }
   ],
   "source": [
    "print(combined[combined[\"hispanic_per\"] > 95][\"SCHOOL NAME\"])"
   ]
  },
  {
   "cell_type": "markdown",
   "metadata": {},
   "source": [
    "These schools appear to primarily be geared towrds recent immigrants to the US. These schools have a lot of students who are learning English, which would explaun the lower SAT scores."
   ]
  },
  {
   "cell_type": "code",
   "execution_count": 44,
   "metadata": {},
   "outputs": [
    {
     "name": "stdout",
     "output_type": "stream",
     "text": [
      "37                                STUYVESANT HIGH SCHOOL\n",
      "46       HIGH SCHOOL FOR DUAL LANGUAGE AND ASIAN STUDIES\n",
      "151                         BRONX HIGH SCHOOL OF SCIENCE\n",
      "187                       BROOKLYN TECHNICAL HIGH SCHOOL\n",
      "192                          BEDFORD ACADEMY HIGH SCHOOL\n",
      "194                            BENJAMIN BANNEKER ACADEMY\n",
      "220                           BOYS AND GIRLS HIGH SCHOOL\n",
      "223    ACADEMY FOR COLLEGE PREPARATION AND CAREER EXP...\n",
      "226               THE HIGH SCHOOL FOR GLOBAL CITIZENSHIP\n",
      "227                         SCHOOL FOR HUMAN RIGHTS, THE\n",
      "228                  SCHOOL FOR DEMOCRACY AND LEADERSHIP\n",
      "229    HIGH SCHOOL FOR YOUTH AND COMMUNITY DEVELOPMEN...\n",
      "230        HIGH SCHOOL FOR SERVICE & LEARNING AT ERASMUS\n",
      "231    SCIENCE, TECHNOLOGY AND RESEARCH EARLY COLLEGE...\n",
      "235              MEDGAR EVERS COLLEGE PREPARATORY SCHOOL\n",
      "236                             CLARA BARTON HIGH SCHOOL\n",
      "238                           BROOKLYN GENERATION SCHOOL\n",
      "240              KURT HAHN EXPEDITIONARY LEARNING SCHOOL\n",
      "241                       VICTORY COLLEGIATE HIGH SCHOOL\n",
      "242                     ARTS & MEDIA PREPARATORY ACADEMY\n",
      "280          BROOKLYN COLLEGIATE: A COLLEGE BOARD SCHOOL\n",
      "327    QUEENS HIGH SCHOOL FOR THE SCIENCES AT YORK CO...\n",
      "330                           QUEENS PREPARATORY ACADEMY\n",
      "331    PATHWAYS COLLEGE PREPARATORY SCHOOL: A COLLEGE...\n",
      "332                    EXCELSIOR PREPARATORY HIGH SCHOOL\n",
      "335                              CAMBRIA HEIGHTS ACADEMY\n",
      "337                 HUMANITIES & ARTS MAGNET HIGH SCHOOL\n",
      "353                              TOTTENVILLE HIGH SCHOOL\n",
      "356                  STATEN ISLAND TECHNICAL HIGH SCHOOL\n",
      "Name: SCHOOL NAME, dtype: object\n"
     ]
    }
   ],
   "source": [
    "print(combined[(combined[\"hispanic_per\"] < 10) & (combined[\"sat_score\"] > 1000)][\"SCHOOL NAME\"])"
   ]
  },
  {
   "cell_type": "markdown",
   "metadata": {},
   "source": [
    "Many schools in this list are specialized for gifted students in arts, science, language, technology and social sciences, which receive extra funding and only admit students who pass the entrance exam. This does not explian low hispanic students, but explain why students score higher for SAT.\n",
    "\n",
    "### Exploring Gender and SAT scores"
   ]
  },
  {
   "cell_type": "code",
   "execution_count": 45,
   "metadata": {},
   "outputs": [
    {
     "data": {
      "text/plain": [
       "<matplotlib.axes._subplots.AxesSubplot at 0x21cb66571c8>"
      ]
     },
     "execution_count": 45,
     "metadata": {},
     "output_type": "execute_result"
    },
    {
     "data": {
      "image/png": "[encoded data removed]",
      "text/plain": [
       "<Figure size 432x288 with 1 Axes>"
      ]
     },
     "metadata": {
      "needs_background": "light"
     },
     "output_type": "display_data"
    }
   ],
   "source": [
    "gender_fields = [\"female_per\", \"male_per\"]\n",
    "combined.corr()[\"sat_score\"][gender_fields].plot.bar()"
   ]
  },
  {
   "cell_type": "markdown",
   "metadata": {},
   "source": [
    "In the plot above, we can see that a high percentage of females at school positively correlates with SAT scores, whereas a high percentage of males negatively correlates with SAT scores. Neither correlation is extremely strong."
   ]
  },
  {
   "cell_type": "code",
   "execution_count": 46,
   "metadata": {},
   "outputs": [
    {
     "data": {
      "text/plain": [
       "<matplotlib.axes._subplots.AxesSubplot at 0x21cb66f81c8>"
      ]
     },
     "execution_count": 46,
     "metadata": {},
     "output_type": "execute_result"
    },
    {
     "data": {
      "image/png": "[encoded data removed]",
      "text/plain": [
       "<Figure size 432x288 with 1 Axes>"
      ]
     },
     "metadata": {
      "needs_background": "light"
     },
     "output_type": "display_data"
    }
   ],
   "source": [
    "combined.plot.scatter(\"female_per\", \"sat_score\")"
   ]
  },
  {
   "cell_type": "markdown",
   "metadata": {},
   "source": [
    "There is 2 huge clusters of schools with high percentage of females with high SAT scores."
   ]
  },
  {
   "cell_type": "code",
   "execution_count": 47,
   "metadata": {},
   "outputs": [
    {
     "name": "stdout",
     "output_type": "stream",
     "text": [
      "5                         BARD HIGH SCHOOL EARLY COLLEGE\n",
      "26                         ELEANOR ROOSEVELT HIGH SCHOOL\n",
      "37                                STUYVESANT HIGH SCHOOL\n",
      "60                                    BEACON HIGH SCHOOL\n",
      "61     FIORELLO H. LAGUARDIA HIGH SCHOOL OF MUSIC & A...\n",
      "79     HIGH SCHOOL FOR MATHEMATICS, SCIENCE AND ENGIN...\n",
      "151                         BRONX HIGH SCHOOL OF SCIENCE\n",
      "155    HIGH SCHOOL OF AMERICAN STUDIES AT LEHMAN COLLEGE\n",
      "187                       BROOKLYN TECHNICAL HIGH SCHOOL\n",
      "198                           BROOKLYN LATIN SCHOOL, THE\n",
      "302                          TOWNSEND HARRIS HIGH SCHOOL\n",
      "327    QUEENS HIGH SCHOOL FOR THE SCIENCES AT YORK CO...\n",
      "356                  STATEN ISLAND TECHNICAL HIGH SCHOOL\n",
      "Name: SCHOOL NAME, dtype: object\n"
     ]
    }
   ],
   "source": [
    "print(combined[(combined[\"female_per\"] < 80) & (combined[\"sat_score\"] > 1700)][\"SCHOOL NAME\"])"
   ]
  },
  {
   "cell_type": "markdown",
   "metadata": {},
   "source": [
    "These schools appear to be very selective liberal arts schools that have high academic standards, which result in high SAT scores."
   ]
  },
  {
   "cell_type": "markdown",
   "metadata": {},
   "source": [
    "### Exploring AP scores and SAT scores"
   ]
  },
  {
   "cell_type": "code",
   "execution_count": 48,
   "metadata": {},
   "outputs": [
    {
     "data": {
      "text/plain": [
       "<matplotlib.axes._subplots.AxesSubplot at 0x21cb676a6c8>"
      ]
     },
     "execution_count": 48,
     "metadata": {},
     "output_type": "execute_result"
    },
    {
     "data": {
      "image/png": "[encoded data removed]",
      "text/plain": [
       "<Figure size 432x288 with 1 Axes>"
      ]
     },
     "metadata": {
      "needs_background": "light"
     },
     "output_type": "display_data"
    }
   ],
   "source": [
    "combined[\"ap_per\"] = combined[\"AP Test Takers \"] / combined[\"total_enrollment\"] *100\n",
    "\n",
    "combined.plot.scatter(x='ap_per', y='sat_score')"
   ]
  },
  {
   "cell_type": "markdown",
   "metadata": {},
   "source": [
    "It looks like there is a relationship between the percentage of students in a school who take the AP exam and their average SAT scores. It's not an extremely strong correlation, though. "
   ]
  },
  {
   "cell_type": "markdown",
   "metadata": {},
   "source": [
    "## CONCLUSION\n",
    "\n",
    "After investigating into correlations among different factors that can possibly affect the SAT scores, we can jump to conclusion as following:\n",
    "1. Geographic and SAT score:\n",
    "\n",
    "We see that school density is highest in Manhattan, and lower in Brooklyn, the Bronx, Queens and Staten Island. At first, we believed that higher enrollments to schools lead to higher SAT scores, however, it is actually the percentage of English leaners that attributes to the total enrollments. Nevertheless, upper Manhattan and parts of the Bronx and Queens tend to have higher percentages of English learning students. \n",
    "\n",
    "2. Race and SAT score\n",
    "\n",
    "There is quite strong correlation between races and SAT scores. Asian and white students perform quite good with high SAT scores, whereas schools that have high percentage of black or hispanic students tend to have lower performance on SAT scores. This could be due to the lack of funding, students are still learning English and not yet fully prepared for SAT exams. \n",
    "\n",
    "3. Gender and SAT score\n",
    "\n",
    "Even though there is a correlation between genders and SAT scores, however, it is not that strong to have a huge influence on SAT scores. The statistics show that while schools that have high percentage of female students can have a higher SAT scores, schools with more male students tend to score lower. But it is not that necessarily true as the schools that have higher female percentage tend to be very selective schools and this could affect the scoring also. \n",
    "\n",
    "4. AP test takers and SAT score\n",
    "\n",
    "There is also a correlation, and again, it is not that strong to have a huge influence on SAT scores. \n",
    "\n",
    "5. Safety and SAT score\n",
    "\n",
    "There is quite a correlation between these 2 sections. And schools with quite low safety scores tend to score lower on SAT. "
   ]
  }
 ],
 "metadata": {
  "kernelspec": {
   "display_name": "Python 3",
   "language": "python",
   "name": "python3"
  },
  "language_info": {
   "codemirror_mode": {
    "name": "ipython",
    "version": 3
   },
   "file_extension": ".py",
   "mimetype": "text/x-python",
   "name": "python",
   "nbconvert_exporter": "python",
   "pygments_lexer": "ipython3",
   "version": "3.7.4"
  }
 },
 "nbformat": 4,
 "nbformat_minor": 2
}
